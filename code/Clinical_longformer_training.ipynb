{
 "cells": [
  {
   "cell_type": "markdown",
   "id": "a16b12bb",
   "metadata": {},
   "source": [
    "### install library and download data"
   ]
  },
  {
   "cell_type": "code",
   "execution_count": 1,
   "id": "0a8a71f5",
   "metadata": {
    "execution": {
     "iopub.execute_input": "2024-09-14T10:37:51.121319Z",
     "iopub.status.busy": "2024-09-14T10:37:51.120853Z",
     "iopub.status.idle": "2024-09-14T10:37:51.126694Z",
     "shell.execute_reply": "2024-09-14T10:37:51.125560Z"
    },
    "tags": []
   },
   "outputs": [],
   "source": [
    "# !pip install -qU \\\n",
    "#   lightning \\\n",
    "#   datasets \\\n",
    "#   wandb \\\n",
    "#   gdown \\\n",
    "#   transformers"
   ]
  },
  {
   "cell_type": "code",
   "execution_count": 2,
   "id": "4e00c3f8",
   "metadata": {
    "execution": {
     "iopub.execute_input": "2024-09-14T10:37:51.132261Z",
     "iopub.status.busy": "2024-09-14T10:37:51.131748Z",
     "iopub.status.idle": "2024-09-14T10:37:51.137003Z",
     "shell.execute_reply": "2024-09-14T10:37:51.135762Z"
    },
    "tags": []
   },
   "outputs": [],
   "source": [
    "# import os\n",
    "# from pprint import pprint as pp\n",
    "# os.mkdir(\"./model/\")"
   ]
  },
  {
   "cell_type": "code",
   "execution_count": 3,
   "id": "98b88f43",
   "metadata": {
    "execution": {
     "iopub.execute_input": "2024-09-14T10:37:51.141560Z",
     "iopub.status.busy": "2024-09-14T10:37:51.140972Z",
     "iopub.status.idle": "2024-09-14T10:37:53.605879Z",
     "shell.execute_reply": "2024-09-14T10:37:53.604851Z"
    },
    "tags": []
   },
   "outputs": [
    {
     "name": "stderr",
     "output_type": "stream",
     "text": [
      "/usr/local/lib/python3.10/dist-packages/tqdm/auto.py:21: TqdmWarning: IProgress not found. Please update jupyter and ipywidgets. See https://ipywidgets.readthedocs.io/en/stable/user_install.html\n",
      "  from .autonotebook import tqdm as notebook_tqdm\n"
     ]
    }
   ],
   "source": [
    "# library\n",
    "import os\n",
    "#from pprint import pprint as pp\n",
    "\n",
    "import torch\n",
    "from torch import nn\n",
    "from transformers import LongformerTokenizer, AutoTokenizer\n",
    "from torch.utils.data import Dataset, DataLoader\n",
    "\n",
    "from torch.optim import AdamW\n",
    "from torch.nn import CrossEntropyLoss\n",
    "\n",
    "from collections import defaultdict\n",
    "import random\n",
    "import json"
   ]
  },
  {
   "cell_type": "code",
   "execution_count": 4,
   "id": "99bae28a",
   "metadata": {
    "execution": {
     "iopub.execute_input": "2024-09-14T10:37:53.614053Z",
     "iopub.status.busy": "2024-09-14T10:37:53.613390Z",
     "iopub.status.idle": "2024-09-14T10:37:53.619095Z",
     "shell.execute_reply": "2024-09-14T10:37:53.617813Z"
    }
   },
   "outputs": [],
   "source": [
    "seed = 61\n",
    "\n",
    "random.seed(seed)"
   ]
  },
  {
   "cell_type": "markdown",
   "id": "a49d3c11",
   "metadata": {},
   "source": [
    "### load data"
   ]
  },
  {
   "cell_type": "code",
   "execution_count": 5,
   "id": "7c01f5c0",
   "metadata": {
    "execution": {
     "iopub.execute_input": "2024-09-14T10:37:53.623812Z",
     "iopub.status.busy": "2024-09-14T10:37:53.623215Z",
     "iopub.status.idle": "2024-09-14T10:37:53.636612Z",
     "shell.execute_reply": "2024-09-14T10:37:53.635669Z"
    },
    "tags": []
   },
   "outputs": [
    {
     "name": "stdout",
     "output_type": "stream",
     "text": [
      "1121\n",
      "615\n",
      "\n",
      "1736\n",
      "561\n"
     ]
    }
   ],
   "source": [
    "# data structure:\n",
    "# First_Phase_Release(Correction)/First_Phase_Text_Dataset/\n",
    "# First_Phase_Release(Correction)/answer.txt\n",
    "# Second_Phase_Dataset/Second_Phase_Text_Dataset/\n",
    "# Second_Phase_Dataset/answer.txt\n",
    "# validation_dataset/Validation_Release/\n",
    "# validation_dataset/answer.txt\n",
    "\n",
    "first_dataset_doc_path = \"./dataset/First_Phase_Release(Correction)/First_Phase_Text_Dataset/\"\n",
    "second_dataset_doc_path = \"./dataset/Second_Phase_Dataset/Second_Phase_Text_Dataset/\"\n",
    "label_path = [\"./dataset/First_Phase_Release(Correction)/answer.txt\", \"./dataset/Second_Phase_Dataset/answer.txt\"]\n",
    "val_dataset_doc_parh = \"./dataset/validation_dataset/Validation_Release/\"\n",
    "val_label_path = \"./dataset/validation_dataset/answer.txt\"\n",
    "\n",
    "first_dataset_path = [first_dataset_doc_path + file_path for file_path in os.listdir(first_dataset_doc_path)]\n",
    "second_dataset_path = [second_dataset_doc_path + file_path for file_path in os.listdir(second_dataset_doc_path)]\n",
    "train_path = first_dataset_path + second_dataset_path\n",
    "val_path = [val_dataset_doc_parh + file_path for file_path in os.listdir(val_dataset_doc_parh)]\n",
    "\n",
    "#check number of data-path\n",
    "print(len(first_dataset_path)) #1120\n",
    "print(len(second_dataset_path)) #614\n",
    "print()\n",
    "print(len(train_path)) #1734\n",
    "print(len(val_path)) #560"
   ]
  },
  {
   "cell_type": "code",
   "execution_count": 6,
   "id": "7c0f89c5",
   "metadata": {
    "execution": {
     "iopub.execute_input": "2024-09-14T10:37:53.641549Z",
     "iopub.status.busy": "2024-09-14T10:37:53.641047Z",
     "iopub.status.idle": "2024-09-14T10:37:53.711970Z",
     "shell.execute_reply": "2024-09-14T10:37:53.710892Z"
    },
    "tags": []
   },
   "outputs": [],
   "source": [
    "# we can use utf-8-sig to solve ufeff problem (need to remove for label)\n",
    "# Define function to read label\n",
    "\n",
    "def create_label_dict(label_path):\n",
    "    label_dict = {}  # y\n",
    "    with open(label_path, \"r\", encoding=\"utf-8-sig\") as f:\n",
    "        file_text = f.read().strip()  \n",
    "\n",
    "    # (id, label, start, end, query) or (id, label, start, end, query, time_org, timefix)\n",
    "    for line in file_text.split(\"\\n\"):\n",
    "        sample = line.split(\"\\t\")  \n",
    "        sample[2], sample[3] = int(sample[2]), int(sample[3])\n",
    "\n",
    "        if sample[0] not in label_dict:\n",
    "            label_dict[sample[0]] = [sample[1:]]\n",
    "        else:\n",
    "            label_dict[sample[0]].append(sample[1:])\n",
    "\n",
    "    return label_dict\n",
    "\n",
    "train_label_dict = create_label_dict(label_path[0])\n",
    "second_dataset_label_dict = create_label_dict(label_path[1])\n",
    "train_label_dict.update(second_dataset_label_dict)\n",
    "val_label_dict = create_label_dict(val_label_path)"
   ]
  },
  {
   "cell_type": "code",
   "execution_count": 7,
   "id": "2a8d2799",
   "metadata": {
    "execution": {
     "iopub.execute_input": "2024-09-14T10:37:53.720686Z",
     "iopub.status.busy": "2024-09-14T10:37:53.719943Z",
     "iopub.status.idle": "2024-09-14T10:37:53.817258Z",
     "shell.execute_reply": "2024-09-14T10:37:53.816385Z"
    },
    "tags": []
   },
   "outputs": [],
   "source": [
    "# Define function to read data\n",
    "\n",
    "def load_medical_records(paths):\n",
    "    medical_record_dict = {}\n",
    "    for data_path in paths:\n",
    "\n",
    "        if os.path.isfile(data_path):\n",
    "            file_id = data_path.split(\"/\")[-1].split(\".txt\")[0]\n",
    "            with open(data_path, \"r\", encoding=\"utf-8\") as f:\n",
    "                file_text = f.read()\n",
    "                medical_record_dict[file_id] = file_text\n",
    "    return medical_record_dict\n",
    "\n",
    "train_medical_record_dict = load_medical_records(train_path)\n",
    "val_medical_record_dict = load_medical_records(val_path)"
   ]
  },
  {
   "cell_type": "code",
   "execution_count": 8,
   "id": "74525d81",
   "metadata": {
    "execution": {
     "iopub.execute_input": "2024-09-14T10:37:53.824390Z",
     "iopub.status.busy": "2024-09-14T10:37:53.823855Z",
     "iopub.status.idle": "2024-09-14T10:37:53.831249Z",
     "shell.execute_reply": "2024-09-14T10:37:53.830430Z"
    },
    "tags": []
   },
   "outputs": [
    {
     "name": "stdout",
     "output_type": "stream",
     "text": [
      "1734\n",
      "1734\n",
      "560\n",
      "560\n"
     ]
    }
   ],
   "source": [
    "#chect the number of data\n",
    "print(len(list(train_medical_record_dict.keys()))) #1734\n",
    "print(len(list(train_label_dict.keys()))) #1734\n",
    "print(len(list(val_medical_record_dict.keys()))) #560\n",
    "print(len(list(val_label_dict.keys()))) #560"
   ]
  },
  {
   "cell_type": "code",
   "execution_count": 9,
   "id": "1e2f95f0",
   "metadata": {
    "execution": {
     "iopub.execute_input": "2024-09-14T10:37:53.835463Z",
     "iopub.status.busy": "2024-09-14T10:37:53.835040Z",
     "iopub.status.idle": "2024-09-14T10:37:53.841440Z",
     "shell.execute_reply": "2024-09-14T10:37:53.839714Z"
    }
   },
   "outputs": [],
   "source": [
    "all_medical_record_dict = {**train_medical_record_dict, **val_medical_record_dict}\n",
    "all_label_dict = {**train_label_dict, **val_label_dict}"
   ]
  },
  {
   "cell_type": "markdown",
   "id": "ddba4414",
   "metadata": {},
   "source": [
    "### clean data"
   ]
  },
  {
   "cell_type": "code",
   "execution_count": 10,
   "id": "0384ced7",
   "metadata": {
    "execution": {
     "iopub.execute_input": "2024-09-14T10:37:53.846989Z",
     "iopub.status.busy": "2024-09-14T10:37:53.846271Z",
     "iopub.status.idle": "2024-09-14T10:37:53.856413Z",
     "shell.execute_reply": "2024-09-14T10:37:53.855567Z"
    },
    "tags": []
   },
   "outputs": [],
   "source": [
    "def check_labels(text, labels, record_id, tag=False):\n",
    "    for i, label in enumerate(labels):  \n",
    "        extracted_text = text[label[1]:label[2]]\n",
    "        if extracted_text != label[3]:\n",
    "            print(f\"Error in ID {record_id}, Line {i}: {label[0]}, position: {label[1]}-{label[2]}, \"\n",
    "                  f\"label: '{label[3]}', extracted: '{extracted_text}'\")\n",
    "        elif tag:\n",
    "            print(f\"Correct in ID {record_id}, Line {i}: {label[0]}, position: {label[1]}-{label[2]}, extracted: '{extracted_text}'\")\n",
    "\n",
    "def check_all_labels(medical_records, label_dict, tag=False):\n",
    "    for record_id, text in medical_records.items():\n",
    "        if record_id in label_dict:\n",
    "            labels = label_dict[record_id]\n",
    "            check_labels(text, labels, record_id, tag)\n",
    "        else:\n",
    "            print(f\"ID: {record_id} has no label\")\n",
    "\n",
    "         "
   ]
  },
  {
   "cell_type": "code",
   "execution_count": 11,
   "id": "d46d4b26",
   "metadata": {
    "execution": {
     "iopub.execute_input": "2024-09-14T10:37:53.861588Z",
     "iopub.status.busy": "2024-09-14T10:37:53.860889Z",
     "iopub.status.idle": "2024-09-14T10:37:53.884626Z",
     "shell.execute_reply": "2024-09-14T10:37:53.883892Z"
    },
    "tags": []
   },
   "outputs": [
    {
     "name": "stdout",
     "output_type": "stream",
     "text": [
      "Error in ID 1139, Line 16: HOSPITAL, position: 2702-2722, label: 'PLANTAGENET HOSPITAL', extracted: 'PLANTAGENE3/9 JENNIE'\n",
      "Error in ID 1481, Line 21: DEPARTMENT, position: 2390-2403, label: 'SEALS Central', extracted: 'SEAKALBARRI H'\n",
      "Error in ID file21297, Line 20: ORGANIZATION, position: 6045-6064, label: 'KB Home Los Angeles', extracted: 'KB Home\tLos Angeles'\n"
     ]
    }
   ],
   "source": [
    "# check training data\n",
    "check_all_labels(all_medical_record_dict, all_label_dict)   "
   ]
  },
  {
   "cell_type": "code",
   "execution_count": 12,
   "id": "48bc22e3",
   "metadata": {
    "execution": {
     "iopub.execute_input": "2024-09-14T10:37:53.889986Z",
     "iopub.status.busy": "2024-09-14T10:37:53.889426Z",
     "iopub.status.idle": "2024-09-14T10:37:53.896248Z",
     "shell.execute_reply": "2024-09-14T10:37:53.895216Z"
    },
    "tags": []
   },
   "outputs": [
    {
     "name": "stdout",
     "output_type": "stream",
     "text": [
      "PLANTAGENE3/9 JENNIE\n",
      "['HOSPITAL', 2702, 2722, 'PLANTAGENET HOSPITAL']\n"
     ]
    }
   ],
   "source": [
    "# check 1139, PLANTAGENET 3/9 JENNIE COX CLOSE Pathology ?\n",
    "print(all_medical_record_dict['1139'][2702:2722])\n",
    "print(all_label_dict['1139'][16])\n",
    "\n",
    "# replace it\n",
    "all_label_dict['1139'][16][3]=all_medical_record_dict['1139'][2702:2722]"
   ]
  },
  {
   "cell_type": "code",
   "execution_count": 13,
   "id": "3bbf2fbc",
   "metadata": {
    "execution": {
     "iopub.execute_input": "2024-09-14T10:37:53.901603Z",
     "iopub.status.busy": "2024-09-14T10:37:53.900372Z",
     "iopub.status.idle": "2024-09-14T10:37:53.917467Z",
     "shell.execute_reply": "2024-09-14T10:37:53.915960Z"
    },
    "tags": []
   },
   "outputs": [
    {
     "name": "stdout",
     "output_type": "stream",
     "text": [
      "SEAKALBARRI H\n",
      "['DEPARTMENT', 2390, 2403, 'SEALS Central']\n"
     ]
    },
    {
     "data": {
      "text/plain": [
       "['DEPARTMENT', 2390, 2403, 'SEALS Central']"
      ]
     },
     "execution_count": 13,
     "metadata": {},
     "output_type": "execute_result"
    }
   ],
   "source": [
    "# check 1481, there is no DEPARTMENT\n",
    "print(all_medical_record_dict['1481'][2390:2403])\n",
    "print(all_label_dict['1481'][21])\n",
    "\n",
    "# remove it \n",
    "all_label_dict['1481'].pop(21)"
   ]
  },
  {
   "cell_type": "code",
   "execution_count": 14,
   "id": "f1bdaa0b",
   "metadata": {
    "execution": {
     "iopub.execute_input": "2024-09-14T10:37:53.921924Z",
     "iopub.status.busy": "2024-09-14T10:37:53.921330Z",
     "iopub.status.idle": "2024-09-14T10:37:53.927175Z",
     "shell.execute_reply": "2024-09-14T10:37:53.926353Z"
    },
    "tags": []
   },
   "outputs": [],
   "source": [
    "# check file21297, index 6047 is '\\t'\n",
    "all_medical_record_dict['file21297'][6045:6064]\n",
    "\n",
    "# replace it\n",
    "all_medical_record_dict['file21297'] = val_medical_record_dict['file21297'][:6047] + ' ' + val_medical_record_dict['file21297'][6048:]"
   ]
  },
  {
   "cell_type": "code",
   "execution_count": 15,
   "id": "babe748c",
   "metadata": {
    "execution": {
     "iopub.execute_input": "2024-09-14T10:37:53.932485Z",
     "iopub.status.busy": "2024-09-14T10:37:53.932072Z",
     "iopub.status.idle": "2024-09-14T10:37:53.939908Z",
     "shell.execute_reply": "2024-09-14T10:37:53.938667Z"
    }
   },
   "outputs": [],
   "source": [
    "all_keys = list(all_medical_record_dict.keys())\n",
    "random.shuffle(all_keys)\n"
   ]
  },
  {
   "cell_type": "code",
   "execution_count": 16,
   "id": "540359ce",
   "metadata": {
    "execution": {
     "iopub.execute_input": "2024-09-14T10:37:53.944518Z",
     "iopub.status.busy": "2024-09-14T10:37:53.944033Z",
     "iopub.status.idle": "2024-09-14T10:37:53.958014Z",
     "shell.execute_reply": "2024-09-14T10:37:53.957096Z"
    }
   },
   "outputs": [
    {
     "name": "stdout",
     "output_type": "stream",
     "text": [
      "New Train Set Size: 1835\n",
      "New Validation Set Size: 459\n"
     ]
    }
   ],
   "source": [
    "train_size = int(0.8 * len(all_keys))\n",
    "val_size = len(all_keys) - train_size\n",
    "\n",
    "train_keys = all_keys[:train_size]\n",
    "val_keys = all_keys[train_size:]\n",
    "\n",
    "train_medical_record_dict = {key: all_medical_record_dict[key] for key in train_keys}\n",
    "train_label_dict = {key: all_label_dict[key] for key in train_keys}\n",
    "\n",
    "val_medical_record_dict = {key: all_medical_record_dict[key] for key in val_keys}\n",
    "val_label_dict = {key: all_label_dict[key] for key in val_keys}\n",
    "\n",
    "print(\"New Train Set Size:\", len(train_medical_record_dict))\n",
    "print(\"New Validation Set Size:\", len(val_medical_record_dict))"
   ]
  },
  {
   "cell_type": "markdown",
   "id": "9b987bde",
   "metadata": {},
   "source": [
    "### create label type table"
   ]
  },
  {
   "cell_type": "code",
   "execution_count": 17,
   "id": "656bda07",
   "metadata": {
    "execution": {
     "iopub.execute_input": "2024-09-14T10:37:53.963588Z",
     "iopub.status.busy": "2024-09-14T10:37:53.962940Z",
     "iopub.status.idle": "2024-09-14T10:37:53.979404Z",
     "shell.execute_reply": "2024-09-14T10:37:53.978547Z"
    },
    "tags": []
   },
   "outputs": [
    {
     "name": "stdout",
     "output_type": "stream",
     "text": [
      "{'OTHER': 0, 'URL': 1, 'TIME': 2, 'PATIENT': 3, 'ZIP': 4, 'LOCATION-OTHER': 5, 'ROOM': 6, 'DOCTOR': 7, 'ORGANIZATION': 8, 'PHONE': 9, 'CITY': 10, 'MEDICALRECORD': 11, 'SET': 12, 'COUNTRY': 13, 'STREET': 14, 'DURATION': 15, 'STATE': 16, 'DEPARTMENT': 17, 'AGE': 18, 'IDNUM': 19, 'DATE': 20, 'HOSPITAL': 21}\n"
     ]
    }
   ],
   "source": [
    "#add special token [other] in label list\n",
    "labels_type = list(set( [label[0] for labels in train_label_dict.values() for label in labels] ))\n",
    "labels_type = [\"OTHER\"] + labels_type \n",
    "labels_num = len(labels_type)\n",
    "# print(labels_type)\n",
    "# print(\"The number of labels:\", labels_num)\n",
    "labels_type_table = {label_name:id for id, label_name in enumerate(labels_type)}\n",
    "print(labels_type_table)"
   ]
  },
  {
   "cell_type": "code",
   "execution_count": 18,
   "id": "92029546",
   "metadata": {
    "execution": {
     "iopub.execute_input": "2024-09-14T10:37:53.988520Z",
     "iopub.status.busy": "2024-09-14T10:37:53.987976Z",
     "iopub.status.idle": "2024-09-14T10:37:53.997179Z",
     "shell.execute_reply": "2024-09-14T10:37:53.995725Z"
    },
    "tags": []
   },
   "outputs": [
    {
     "name": "stdout",
     "output_type": "stream",
     "text": [
      "{'OTHER': 0, 'PATIENT': 1, 'DOCTOR': 2, 'CITY': 3, 'ROOM': 4, 'STREET': 5, 'MEDICALRECORD': 6, 'DEPARTMENT': 7, 'LOCATION-OTHER': 8, 'COUNTRY': 9, 'IDNUM': 10, 'STATE': 11, 'AGE': 12, 'SET': 13, 'HOSPITAL': 14, 'DATE': 15, 'ZIP': 16, 'URL': 17, 'DURATION': 18, 'ORGANIZATION': 19, 'TIME': 20, 'PHONE': 21}\n"
     ]
    }
   ],
   "source": [
    "# fix it\n",
    "labels_type_table={'OTHER': 0, 'PATIENT': 1, 'DOCTOR': 2, 'CITY': 3, 'ROOM': 4, 'STREET': 5, 'MEDICALRECORD': 6, 'DEPARTMENT': 7, 'LOCATION-OTHER': 8, 'COUNTRY': 9, 'IDNUM': 10, 'STATE': 11, 'AGE': 12, 'SET': 13, 'HOSPITAL': 14, 'DATE': 15, 'ZIP': 16, 'URL': 17, 'DURATION': 18, 'ORGANIZATION': 19, 'TIME': 20, 'PHONE': 21}\n",
    "print(labels_type_table)"
   ]
  },
  {
   "cell_type": "code",
   "execution_count": 19,
   "id": "c2efaca2",
   "metadata": {
    "execution": {
     "iopub.execute_input": "2024-09-14T10:37:54.003223Z",
     "iopub.status.busy": "2024-09-14T10:37:54.002202Z",
     "iopub.status.idle": "2024-09-14T10:37:54.010569Z",
     "shell.execute_reply": "2024-09-14T10:37:54.009465Z"
    },
    "tags": []
   },
   "outputs": [],
   "source": [
    "#check the label_type is enough for validation\n",
    "val_labels_type = list(set( [label[0] for labels in val_label_dict.values() for label in labels] ))\n",
    "for val_label_type in val_labels_type:\n",
    "    if val_label_type not in labels_type:\n",
    "        print(\"Special label in validation:\", val_label_type)"
   ]
  },
  {
   "cell_type": "code",
   "execution_count": 20,
   "id": "0ccf99a9",
   "metadata": {
    "execution": {
     "iopub.execute_input": "2024-09-14T10:37:54.014894Z",
     "iopub.status.busy": "2024-09-14T10:37:54.014464Z",
     "iopub.status.idle": "2024-09-14T10:37:54.020530Z",
     "shell.execute_reply": "2024-09-14T10:37:54.019486Z"
    }
   },
   "outputs": [],
   "source": [
    "# Function to count label distribution\n",
    "def count_label_distribution(label_dict, labels_type_table):\n",
    "    label_counts = {label: 0 for label in labels_type_table.keys()}\n",
    "    for labels in label_dict.values():\n",
    "        for label_info in labels:\n",
    "            label = label_info[0]  # Extract label name\n",
    "            if label in label_counts:\n",
    "                label_counts[label] += 1\n",
    "    return label_counts"
   ]
  },
  {
   "cell_type": "code",
   "execution_count": 21,
   "id": "13621bc3",
   "metadata": {
    "execution": {
     "iopub.execute_input": "2024-09-14T10:37:54.025126Z",
     "iopub.status.busy": "2024-09-14T10:37:54.024670Z",
     "iopub.status.idle": "2024-09-14T10:37:54.043519Z",
     "shell.execute_reply": "2024-09-14T10:37:54.042438Z"
    }
   },
   "outputs": [
    {
     "name": "stdout",
     "output_type": "stream",
     "text": [
      "Train Label Distribution:\n",
      "  OTHER: 0\n",
      "  PATIENT: 1885\n",
      "  DOCTOR: 6987\n",
      "  CITY: 1020\n",
      "  ROOM: 1\n",
      "  STREET: 980\n",
      "  MEDICALRECORD: 1912\n",
      "  DEPARTMENT: 1135\n",
      "  LOCATION-OTHER: 7\n",
      "  COUNTRY: 3\n",
      "  IDNUM: 3918\n",
      "  STATE: 952\n",
      "  AGE: 146\n",
      "  SET: 11\n",
      "  HOSPITAL: 1915\n",
      "  DATE: 5108\n",
      "  ZIP: 994\n",
      "  URL: 3\n",
      "  DURATION: 28\n",
      "  ORGANIZATION: 113\n",
      "  TIME: 1256\n",
      "  PHONE: 9\n",
      "\n",
      "Validation Label Distribution:\n",
      "  OTHER: 0\n",
      "  PATIENT: 479\n",
      "  DOCTOR: 1745\n",
      "  CITY: 256\n",
      "  ROOM: 0\n",
      "  STREET: 240\n",
      "  MEDICALRECORD: 475\n",
      "  DEPARTMENT: 268\n",
      "  LOCATION-OTHER: 3\n",
      "  COUNTRY: 2\n",
      "  IDNUM: 936\n",
      "  STATE: 233\n",
      "  AGE: 38\n",
      "  SET: 3\n",
      "  HOSPITAL: 478\n",
      "  DATE: 1285\n",
      "  ZIP: 244\n",
      "  URL: 0\n",
      "  DURATION: 6\n",
      "  ORGANIZATION: 47\n",
      "  TIME: 279\n",
      "  PHONE: 2\n"
     ]
    }
   ],
   "source": [
    "# Calculate label distribution\n",
    "train_label_distribution = count_label_distribution(train_label_dict, labels_type_table)\n",
    "val_label_distribution = count_label_distribution(val_label_dict, labels_type_table)\n",
    "\n",
    "# Print results\n",
    "print(\"Train Label Distribution:\")\n",
    "for label, count in train_label_distribution.items():\n",
    "    print(f\"  {label}: {count}\")\n",
    "\n",
    "print(\"\\nValidation Label Distribution:\")\n",
    "for label, count in val_label_distribution.items():\n",
    "    print(f\"  {label}: {count}\")"
   ]
  },
  {
   "cell_type": "markdown",
   "id": "79968042",
   "metadata": {},
   "source": [
    "### pretrain model"
   ]
  },
  {
   "cell_type": "code",
   "execution_count": 22,
   "id": "802fd76c",
   "metadata": {
    "execution": {
     "iopub.execute_input": "2024-09-14T10:37:54.051343Z",
     "iopub.status.busy": "2024-09-14T10:37:54.050749Z",
     "iopub.status.idle": "2024-09-14T10:37:54.520321Z",
     "shell.execute_reply": "2024-09-14T10:37:54.519006Z"
    },
    "tags": []
   },
   "outputs": [
    {
     "name": "stderr",
     "output_type": "stream",
     "text": [
      "/usr/local/lib/python3.10/dist-packages/transformers/tokenization_utils_base.py:1601: FutureWarning: `clean_up_tokenization_spaces` was not set. It will be set to `True` by default. This behavior will be depracted in transformers v4.45, and will be then set to `False` by default. For more details check this issue: https://github.com/huggingface/transformers/issues/31884\n",
      "  warnings.warn(\n"
     ]
    }
   ],
   "source": [
    "model_name = \"yikuan8/Clinical-Longformer\"\n",
    "tokenizer = AutoTokenizer.from_pretrained(model_name, use_fast=True)"
   ]
  },
  {
   "cell_type": "code",
   "execution_count": 23,
   "id": "84517c86",
   "metadata": {
    "execution": {
     "iopub.execute_input": "2024-09-14T10:37:54.525772Z",
     "iopub.status.busy": "2024-09-14T10:37:54.525487Z",
     "iopub.status.idle": "2024-09-14T10:37:55.857292Z",
     "shell.execute_reply": "2024-09-14T10:37:55.856108Z"
    },
    "tags": []
   },
   "outputs": [
    {
     "name": "stderr",
     "output_type": "stream",
     "text": [
      "/usr/local/lib/python3.10/dist-packages/torch/_utils.py:830: UserWarning: TypedStorage is deprecated. It will be removed in the future and UntypedStorage will be the only storage class. This should only matter to you if you are using storages directly.  To access UntypedStorage directly, use tensor.untyped_storage() instead of tensor.storage()\n",
      "  return self.fget.__get__(instance, owner)()\n",
      "Some weights of LongformerModel were not initialized from the model checkpoint at yikuan8/Clinical-Longformer and are newly initialized: ['longformer.pooler.dense.bias', 'longformer.pooler.dense.weight']\n",
      "You should probably TRAIN this model on a down-stream task to be able to use it for predictions and inference.\n"
     ]
    }
   ],
   "source": [
    "from transformers import LongformerModel\n",
    "\n",
    "class MyLongformerModel(nn.Module):\n",
    "\n",
    "    def __init__(self, num_labels):\n",
    "        super(MyLongformerModel, self).__init__()\n",
    "\n",
    "        self.longformer = LongformerModel.from_pretrained('yikuan8/Clinical-Longformer')\n",
    "        self.dropout = nn.Dropout(p=0.1)\n",
    "        self.classifier = nn.Linear(768, num_labels)\n",
    "\n",
    "    def forward(self, input_ids, attention_mask):\n",
    "        output = self.longformer(input_ids=input_ids, attention_mask=attention_mask, return_dict=True)\n",
    "        output = self.dropout(output.last_hidden_state)\n",
    "        logits = self.classifier(output)\n",
    "\n",
    "        return logits\n",
    "\n",
    "\n",
    "model = MyLongformerModel(num_labels=22)  "
   ]
  },
  {
   "cell_type": "code",
   "execution_count": 25,
   "id": "f325c1b3",
   "metadata": {
    "execution": {
     "iopub.execute_input": "2024-09-14T10:37:55.871534Z",
     "iopub.status.busy": "2024-09-14T10:37:55.871063Z",
     "iopub.status.idle": "2024-09-14T10:37:55.876388Z",
     "shell.execute_reply": "2024-09-14T10:37:55.875352Z"
    },
    "tags": []
   },
   "outputs": [],
   "source": [
    "BACH_SIZE = 4\n",
    "#TRAIN_RATIO = 0.9\n",
    "LEARNING_RATE = 1e-5\n",
    "EPOCH = 20"
   ]
  },
  {
   "cell_type": "code",
   "execution_count": 26,
   "id": "f43bc527",
   "metadata": {
    "execution": {
     "iopub.execute_input": "2024-09-14T10:37:55.880940Z",
     "iopub.status.busy": "2024-09-14T10:37:55.880408Z",
     "iopub.status.idle": "2024-09-14T10:37:55.885793Z",
     "shell.execute_reply": "2024-09-14T10:37:55.884507Z"
    }
   },
   "outputs": [],
   "source": [
    "num_labels=22"
   ]
  },
  {
   "cell_type": "markdown",
   "id": "e6905f73",
   "metadata": {},
   "source": [
    "### dataloader"
   ]
  },
  {
   "cell_type": "code",
   "execution_count": 27,
   "id": "33451b05",
   "metadata": {
    "execution": {
     "iopub.execute_input": "2024-09-14T10:37:55.890525Z",
     "iopub.status.busy": "2024-09-14T10:37:55.889874Z",
     "iopub.status.idle": "2024-09-14T10:37:55.909309Z",
     "shell.execute_reply": "2024-09-14T10:37:55.908220Z"
    },
    "tags": []
   },
   "outputs": [],
   "source": [
    "import torch\n",
    "from torch.utils.data import Dataset, DataLoader\n",
    "class Privacy_protection_dataset(Dataset):\n",
    "    def __init__(self, medical_record_dict:dict, medical_record_labels:dict, tokenizer, labels_type_table:dict, mode:str):\n",
    "        self.max_length = 4096\n",
    "        self.labels_type_table = labels_type_table\n",
    "        self.tokenizer = tokenizer\n",
    "        self.data = []\n",
    "\n",
    "        for id, text in medical_record_dict.items():\n",
    "            labels = medical_record_labels.get(id, [])\n",
    "            self.split_and_add_data(text, labels, id)\n",
    "    \n",
    "    def split_and_add_data(self, text, labels, id):\n",
    "        # Split text into chunks of max_length\n",
    "        for i in range(0, len(text), self.max_length):\n",
    "            text_chunk = text[i:i+self.max_length]\n",
    "            # Adjust labels for this chunk\n",
    "            chunk_labels = [label for label in labels if label[1] >= i and label[2] <= i+self.max_length]\n",
    "            chunk_labels = [[label[0], label[1] - i, label[2] - i] for label in chunk_labels]\n",
    "            self.data.append((text_chunk, chunk_labels, id))\n",
    "\n",
    "    def __getitem__(self, index):\n",
    "        text_chunk, chunk_labels, id = self.data[index]\n",
    "        return text_chunk, chunk_labels, id\n",
    "\n",
    "    def __len__(self):\n",
    "        return len(self.data)\n",
    "\n",
    "    #find the correct labels ids after tokenizer\n",
    "    def find_token_ids(self, label_start, label_end, offset_mapping):\n",
    "        encodeing_start = float(\"inf\") #max\n",
    "        encodeing_end = 0\n",
    "        for token_id, token_range in enumerate(offset_mapping):\n",
    "            token_start, token_end = token_range\n",
    "          \n",
    "            #if token range one side out of label range, still take the token\n",
    "            if token_start == 0 and token_end == 0: #special tocken\n",
    "                continue\n",
    "                \n",
    "            if label_start<token_end and label_end>token_start:\n",
    "                if token_id<encodeing_start:\n",
    "                    encodeing_start = token_id\n",
    "                encodeing_end = token_id+1\n",
    "                \n",
    "        return encodeing_start, encodeing_end\n",
    "\n",
    "    def encode_labels_position(self, batch_lables:list, offset_mapping:list):\n",
    "        #encode the batch_lables's position\n",
    "        batch_encodeing_labels = []\n",
    "        for sample_labels, sample_offsets in zip(batch_lables, offset_mapping):\n",
    "            encodeing_labels = []\n",
    "            for label in sample_labels:\n",
    "                encodeing_start, encodeing_end = self.find_token_ids(label[1], label[2], sample_offsets)\n",
    "                encodeing_labels.append([label[0], encodeing_start, encodeing_end])\n",
    "            batch_encodeing_labels.append(encodeing_labels)\n",
    "        return batch_encodeing_labels\n",
    "\n",
    "    def create_labels_tensor(self, batch_shape:list, batch_labels_position_encoded:list):\n",
    "        if batch_shape[-1]> self.max_length:\n",
    "            batch_shape[-1] = self.max_length\n",
    "        labels_tensor = torch.zeros(batch_shape)\n",
    "\n",
    "        for sample_id in range(batch_shape[0]):\n",
    "            for label in batch_labels_position_encoded[sample_id]:\n",
    "                label_id = self.labels_type_table[label[0]]\n",
    "                start = label[1]\n",
    "                end = label[2]\n",
    "                \n",
    "                if start >= self.max_length: continue\n",
    "                elif end >= self.max_length: end = self.max_length\n",
    "                \n",
    "                labels_tensor[sample_id][start:end] = label_id\n",
    "                \n",
    "        return labels_tensor\n",
    "\n",
    "    def collate_fn(self, batch_items:list):\n",
    "        #the calculation process in dataloader iteration\n",
    "        batch_medical_record = [sample[0] for sample in batch_items]\n",
    "        batch_labels = [sample[1] for sample in batch_items]\n",
    "        batch_id_list = [sample[2] for sample in batch_items]\n",
    "        \n",
    "        encodings = self.tokenizer(batch_medical_record, padding=True, max_length=self.max_length, truncation=True, return_tensors=\"pt\", return_offsets_mapping=\"True\") # truncation=True\n",
    "\n",
    "        batch_labels_position_encoded = self.encode_labels_position(batch_labels, encodings[\"offset_mapping\"])\n",
    "        batch_labels_tensor = self.create_labels_tensor(encodings[\"input_ids\"].shape, batch_labels_position_encoded)\n",
    "  \n",
    "        return encodings, batch_labels_tensor, batch_labels"
   ]
  },
  {
   "cell_type": "code",
   "execution_count": 28,
   "id": "e00651b7",
   "metadata": {
    "execution": {
     "iopub.execute_input": "2024-09-14T10:37:55.914515Z",
     "iopub.status.busy": "2024-09-14T10:37:55.914242Z",
     "iopub.status.idle": "2024-09-14T10:37:55.964774Z",
     "shell.execute_reply": "2024-09-14T10:37:55.963664Z"
    },
    "tags": []
   },
   "outputs": [],
   "source": [
    "train_id_list = list(train_medical_record_dict.keys())\n",
    "train_medical_record = {sample_id: train_medical_record_dict[sample_id] for sample_id in train_id_list}\n",
    "train_labels = {sample_id: train_label_dict[sample_id] for sample_id in train_id_list}\n",
    "\n",
    "val_id_list = list(val_medical_record_dict.keys())\n",
    "val_medical_record = {sample_id: val_medical_record_dict[sample_id] for sample_id in val_id_list}\n",
    "val_labels = {sample_id: val_label_dict[sample_id] for sample_id in val_id_list}\n",
    "\n",
    "train_dataset = Privacy_protection_dataset(train_medical_record, train_labels, tokenizer, labels_type_table, \"train\")\n",
    "val_dataset = Privacy_protection_dataset(val_medical_record, val_labels, tokenizer, labels_type_table, \"validation\")\n",
    "\n",
    "\n",
    "train_dataloader = DataLoader( train_dataset, batch_size = BACH_SIZE, shuffle = True, collate_fn = train_dataset.collate_fn)\n",
    "val_dataloader = DataLoader( val_dataset, batch_size = BACH_SIZE, shuffle = False, collate_fn = val_dataset.collate_fn)"
   ]
  },
  {
   "cell_type": "code",
   "execution_count": 29,
   "id": "e1cb5b6d",
   "metadata": {
    "execution": {
     "iopub.execute_input": "2024-09-14T10:37:55.972304Z",
     "iopub.status.busy": "2024-09-14T10:37:55.971581Z",
     "iopub.status.idle": "2024-09-14T10:37:55.977900Z",
     "shell.execute_reply": "2024-09-14T10:37:55.976684Z"
    },
    "tags": []
   },
   "outputs": [],
   "source": [
    "# #check dataloader\n",
    "# print(len(train_dataset))\n",
    "# for sample in train_dataset:\n",
    "#     train_x, train_y,_ = sample\n",
    "#     #print(train_x)\n",
    "#     print(train_y)\n",
    "#     break\n",
    "    \n",
    "# print(len(train_dataloader))\n",
    "# for sample in train_dataloader:\n",
    "#     train_x, train_y, _ = sample\n",
    "#     #print(train_x)\n",
    "#     print(train_y)\n",
    "#     break"
   ]
  },
  {
   "cell_type": "code",
   "execution_count": 30,
   "id": "3af277fa",
   "metadata": {
    "execution": {
     "iopub.execute_input": "2024-09-14T10:37:55.981648Z",
     "iopub.status.busy": "2024-09-14T10:37:55.981282Z",
     "iopub.status.idle": "2024-09-14T10:37:55.986311Z",
     "shell.execute_reply": "2024-09-14T10:37:55.984847Z"
    },
    "tags": []
   },
   "outputs": [],
   "source": [
    "# #show the first batch labels embeddings\n",
    "# print(labels_type_table)\n",
    "# for i in range(BACH_SIZE):\n",
    "#     print(train_y[i].tolist())"
   ]
  },
  {
   "cell_type": "code",
   "execution_count": null,
   "id": "034b81c5",
   "metadata": {
    "tags": []
   },
   "outputs": [],
   "source": []
  },
  {
   "cell_type": "markdown",
   "id": "19420c88",
   "metadata": {},
   "source": [
    "### train"
   ]
  },
  {
   "cell_type": "code",
   "execution_count": 31,
   "id": "e38a7ea8",
   "metadata": {
    "execution": {
     "iopub.execute_input": "2024-09-14T10:37:55.990548Z",
     "iopub.status.busy": "2024-09-14T10:37:55.990161Z",
     "iopub.status.idle": "2024-09-14T10:37:56.907553Z",
     "shell.execute_reply": "2024-09-14T10:37:56.905946Z"
    },
    "tags": []
   },
   "outputs": [],
   "source": [
    "\n",
    "device = torch.device('cuda') if torch.cuda.is_available() else torch.device('cpu')\n",
    "model = model.to(device) # Put model on device\n",
    "optim = AdamW(model.parameters(), lr = LEARNING_RATE)\n",
    "#if use CRF\n",
    "loss_fct = CrossEntropyLoss()"
   ]
  },
  {
   "cell_type": "code",
   "execution_count": 32,
   "id": "687b551f",
   "metadata": {
    "execution": {
     "iopub.execute_input": "2024-09-14T10:37:56.916285Z",
     "iopub.status.busy": "2024-09-14T10:37:56.915657Z",
     "iopub.status.idle": "2024-09-14T10:37:56.935817Z",
     "shell.execute_reply": "2024-09-14T10:37:56.934453Z"
    },
    "tags": []
   },
   "outputs": [],
   "source": [
    "def decode_model_result(model_predict_table, offsets_mapping, labels_type_table):\n",
    "    model_predict_list = model_predict_table.tolist()\n",
    "    id_to_label = {id: label for label, id in labels_type_table.items()}\n",
    "    predict_y = []\n",
    "    pre_label_id = 0\n",
    "    start = 0\n",
    "\n",
    "    for position_id, label_id in enumerate(model_predict_list):\n",
    "        if label_id != 0:\n",
    "            if pre_label_id != label_id:\n",
    "                start = int(offsets_mapping[position_id][0])\n",
    "            end = int(offsets_mapping[position_id][1])\n",
    "\n",
    "        if pre_label_id != label_id and pre_label_id != 0:\n",
    "            predict_y.append((id_to_label[pre_label_id], start, end))  # 改為元組\n",
    "        pre_label_id = label_id\n",
    "\n",
    "    if pre_label_id != 0:\n",
    "        predict_y.append((id_to_label[pre_label_id], start, end))  # 同樣改為元組\n",
    "\n",
    "    return predict_y\n",
    "\n",
    "\n",
    "def calculate_batch_score(batch_labels, model_predict_sequences, offset_mappings, labels_type_table):\n",
    "    score_table = defaultdict(lambda: {\"TP\": 0, \"FP\": 0, \"FN\": 0})\n",
    "    id_to_label = {id: label for label, id in labels_type_table.items()}\n",
    "    batch_size = len(model_predict_sequences)\n",
    "\n",
    "    for batch_id in range(batch_size):\n",
    "        sample_prediction = decode_model_result(model_predict_sequences[batch_id], offset_mappings[batch_id], labels_type_table)\n",
    "        sample_ground_truth = batch_labels[batch_id]\n",
    "\n",
    "        # convert ground truth and predictions to sets for comparison\n",
    "        sample_ground_truth = set([tuple(token) for token in sample_ground_truth])\n",
    "        sample_prediction = set([tuple(token) for token in sample_prediction])\n",
    "\n",
    "        # calculate TP, FP, FN for each label\n",
    "        for label_id in labels_type_table.values():\n",
    "            label = id_to_label[label_id]\n",
    "            gt_entities = {x for x in sample_ground_truth if x[0] == label}\n",
    "            pred_entities = {x for x in sample_prediction if x[0] == label}\n",
    "\n",
    "            score_table[label][\"TP\"] += len(gt_entities & pred_entities)\n",
    "            score_table[label][\"FP\"] += len(pred_entities - gt_entities)\n",
    "            score_table[label][\"FN\"] += len(gt_entities - pred_entities)\n",
    "\n",
    "    return score_table\n"
   ]
  },
  {
   "cell_type": "code",
   "execution_count": null,
   "id": "0c0c7189",
   "metadata": {},
   "outputs": [],
   "source": []
  },
  {
   "cell_type": "code",
   "execution_count": 33,
   "id": "c7876770",
   "metadata": {
    "execution": {
     "iopub.execute_input": "2024-09-14T10:37:56.942787Z",
     "iopub.status.busy": "2024-09-14T10:37:56.942036Z",
     "iopub.status.idle": "2024-09-14T10:37:56.948114Z",
     "shell.execute_reply": "2024-09-14T10:37:56.947327Z"
    }
   },
   "outputs": [],
   "source": [
    "def save_metrics_to_file(metrics, filename):\n",
    "    with open(filename, 'w') as file:\n",
    "        json.dump(metrics, file, indent=4)\n",
    "\n",
    "training_stats = []\n"
   ]
  },
  {
   "cell_type": "code",
   "execution_count": 34,
   "id": "472bd6bb",
   "metadata": {
    "execution": {
     "iopub.execute_input": "2024-09-14T10:37:56.952616Z",
     "iopub.status.busy": "2024-09-14T10:37:56.952111Z",
     "iopub.status.idle": "2024-09-14T20:32:33.469277Z",
     "shell.execute_reply": "2024-09-14T20:32:33.467903Z"
    }
   },
   "outputs": [
    {
     "name": "stderr",
     "output_type": "stream",
     "text": [
      "Input ids are automatically padded to be a multiple of `config.attention_window`: 512\n"
     ]
    },
    {
     "name": "stdout",
     "output_type": "stream",
     "text": [
      "Epoch 0\n",
      "Train Loss: 0.12367465942023201\n",
      "Validation Loss: 0.007885276908643714\n",
      "Epoch 1\n",
      "Train Loss: 0.007174165593528884\n",
      "Validation Loss: 0.004311302577609721\n",
      "Epoch 2\n",
      "Train Loss: 0.004293867629366531\n",
      "Validation Loss: 0.003640659365049649\n",
      "Epoch 3\n",
      "Train Loss: 0.002847567018353968\n",
      "Validation Loss: 0.0029496674775647738\n",
      "Epoch 4\n",
      "Train Loss: 0.0020949217204277878\n",
      "Validation Loss: 0.002239813918126386\n",
      "Epoch 5\n",
      "Train Loss: 0.0015898151152783037\n",
      "Validation Loss: 0.0025780160078451362\n",
      "Epoch 6\n",
      "Train Loss: 0.001233280033088127\n",
      "Validation Loss: 0.002394143355308313\n",
      "Epoch 7\n",
      "Train Loss: 0.0010409497439452299\n",
      "Validation Loss: 0.0027142742664568948\n",
      "Epoch 8\n",
      "Train Loss: 0.0008732758623004494\n",
      "Validation Loss: 0.0022930943365992436\n",
      "Epoch 9\n",
      "Train Loss: 0.0006063183966925272\n",
      "Validation Loss: 0.00207638403730664\n",
      "Epoch 10\n",
      "Train Loss: 0.000517673560824891\n",
      "Validation Loss: 0.002175390780148414\n",
      "Epoch 11\n",
      "Train Loss: 0.0005439671973218272\n",
      "Validation Loss: 0.002480827491931502\n",
      "Epoch 12\n",
      "Train Loss: 0.0013088208287490085\n",
      "Validation Loss: 0.002065999898610014\n",
      "Epoch 13\n",
      "Train Loss: 0.00043180335986343915\n",
      "Validation Loss: 0.00232249006997116\n",
      "Epoch 14\n",
      "Train Loss: 0.0003500889861363924\n",
      "Validation Loss: 0.002131299559336519\n",
      "Epoch 15\n",
      "Train Loss: 0.0002924089874629416\n",
      "Validation Loss: 0.0022973206228408373\n",
      "Epoch 16\n",
      "Train Loss: 0.00024109604305589297\n",
      "Validation Loss: 0.0020761397632830412\n",
      "Epoch 17\n",
      "Train Loss: 0.00024396240798797302\n",
      "Validation Loss: 0.0021610707588860844\n",
      "Epoch 18\n",
      "Train Loss: 0.0002499065275666605\n",
      "Validation Loss: 0.0023046658728099858\n",
      "Epoch 19\n",
      "Train Loss: 0.00028962102253223416\n",
      "Validation Loss: 0.0021966631823791736\n"
     ]
    }
   ],
   "source": [
    "for epoch in range(EPOCH):\n",
    "    model.train()\n",
    "    total_train_loss = 0\n",
    "    train_score_table = defaultdict(lambda: {\"TP\": 0, \"FP\": 0, \"FN\": 0})\n",
    "\n",
    "    for batch_x, batch_y, batch_labels in train_dataloader:\n",
    "        optim.zero_grad()\n",
    "        input_ids = batch_x[\"input_ids\"].to(device)\n",
    "        attention_mask = batch_x[\"attention_mask\"].to(device)\n",
    "        labels = batch_y.long().to(device)\n",
    "        \n",
    "        outputs = model(input_ids, attention_mask)\n",
    "\n",
    "        train_loss = loss_fct(outputs.transpose(-1, -2), labels)\n",
    "        total_train_loss += train_loss.item()\n",
    "\n",
    "        train_loss.backward()\n",
    "        optim.step()\n",
    "\n",
    "        # Optional: Calculate confusion matrix for training data\n",
    "        with torch.no_grad():\n",
    "            outputs = model(input_ids, attention_mask)\n",
    "            model_predict_tables = torch.argmax(outputs, dim=-1, keepdim=True).squeeze(-1) \n",
    "            batch_score_table = calculate_batch_score(batch_labels, model_predict_tables, batch_x[\"offset_mapping\"], labels_type_table)\n",
    "            for label, scores in batch_score_table.items():\n",
    "                for key in train_score_table[label]:\n",
    "                    train_score_table[label][key] += scores[key]\n",
    "\n",
    "    avg_train_loss = total_train_loss / len(train_dataloader)\n",
    "\n",
    "    model.eval()\n",
    "    total_val_loss = 0\n",
    "    total_val_score_table = defaultdict(lambda: {\"TP\": 0, \"FP\": 0, \"FN\": 0})\n",
    "\n",
    "    for batch_x, batch_y, batch_labels in val_dataloader:\n",
    "        input_ids = batch_x[\"input_ids\"].to(device)\n",
    "        attention_mask = batch_x[\"attention_mask\"].to(device)\n",
    "        labels = batch_y.long().to(device)\n",
    "        \n",
    "        with torch.no_grad():\n",
    "            # Forward pass\n",
    "            outputs = model(input_ids, attention_mask)\n",
    "            # Calculate loss only for the active part of the loss\n",
    "            val_loss = loss_fct(outputs.transpose(-1, -2), labels)\n",
    "                        \n",
    "            total_val_loss += val_loss.item()\n",
    "\n",
    "            model_predict_tables = torch.argmax(outputs, dim=-1, keepdim=True).squeeze(-1)                \n",
    "            \n",
    "            batch_score_table = calculate_batch_score(batch_labels, model_predict_tables, batch_x[\"offset_mapping\"], labels_type_table)\n",
    "            for label, scores in batch_score_table.items():\n",
    "                for key in total_val_score_table[label]:\n",
    "                    total_val_score_table[label][key] += scores[key]\n",
    "\n",
    "    avg_val_loss = total_val_loss / len(val_dataloader)\n",
    "\n",
    "    # Storing metrics for each epoch\n",
    "    epoch_stats = {\n",
    "        'epoch': epoch,\n",
    "        'train_loss': avg_train_loss,\n",
    "        'val_loss': avg_val_loss,\n",
    "        'train_confusion_matrix': train_score_table,  # Confusion matrix for training data\n",
    "        'val_confusion_matrix': total_val_score_table  # Confusion matrix for validation data\n",
    "    }\n",
    "    training_stats.append(epoch_stats)\n",
    "    \n",
    "    # Print training statistics for current epoch\n",
    "    print(f\"Epoch {epoch}\")\n",
    "    print(f\"Train Loss: {avg_train_loss}\")\n",
    "    print(f\"Validation Loss: {avg_val_loss}\")\n",
    "#     print(f\"Train Confusion Matrix: {train_score_table}\")\n",
    "#     print(f\"Validation Confusion Matrix: {total_val_score_table}\")\n",
    "    \n",
    "    # save_model\n",
    "    model_save_path = f\"./model_proceed/Clinical_longformer_epoch_{epoch}.pt\"\n",
    "    torch.save(model.state_dict(), model_save_path)\n",
    "    \n",
    "# Save training statistics to a file\n",
    "save_metrics_to_file(training_stats, 'Clinical_training_stat_longformer.json')  "
   ]
  },
  {
   "cell_type": "code",
   "execution_count": null,
   "id": "751b8d64",
   "metadata": {},
   "outputs": [],
   "source": []
  },
  {
   "cell_type": "code",
   "execution_count": null,
   "id": "ebb84ccf",
   "metadata": {},
   "outputs": [],
   "source": []
  }
 ],
 "metadata": {
  "kernelspec": {
   "display_name": "Python 3 (ipykernel)",
   "language": "python",
   "name": "python3"
  },
  "language_info": {
   "codemirror_mode": {
    "name": "ipython",
    "version": 3
   },
   "file_extension": ".py",
   "mimetype": "text/x-python",
   "name": "python",
   "nbconvert_exporter": "python",
   "pygments_lexer": "ipython3",
   "version": "3.10.12"
  }
 },
 "nbformat": 4,
 "nbformat_minor": 5
}
