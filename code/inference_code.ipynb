{
 "cells": [
  {
   "cell_type": "markdown",
   "id": "483800e2",
   "metadata": {},
   "source": [
    "### read test data and model to predict answer for task1"
   ]
  },
  {
   "cell_type": "code",
   "execution_count": 1,
   "id": "805d2b1f",
   "metadata": {
    "tags": []
   },
   "outputs": [
    {
     "name": "stderr",
     "output_type": "stream",
     "text": [
      "/usr/local/lib/python3.10/dist-packages/tqdm/auto.py:21: TqdmWarning: IProgress not found. Please update jupyter and ipywidgets. See https://ipywidgets.readthedocs.io/en/stable/user_install.html\n",
      "  from .autonotebook import tqdm as notebook_tqdm\n"
     ]
    }
   ],
   "source": [
    "# library\n",
    "import os\n",
    "\n",
    "import torch\n",
    "from torch import nn\n",
    "from transformers import LongformerTokenizer, AutoTokenizer\n"
   ]
  },
  {
   "cell_type": "markdown",
   "id": "9e5d8e14",
   "metadata": {
    "tags": []
   },
   "source": [
    "### read test data"
   ]
  },
  {
   "cell_type": "code",
   "execution_count": 2,
   "id": "da06854f",
   "metadata": {},
   "outputs": [],
   "source": [
    "\n",
    "test_dataset_doc_parh = \"./dataset/validation_dataset/Validation_Release/\"\n",
    "\n",
    "test_path = [test_dataset_doc_parh + file_path for file_path in os.listdir(test_dataset_doc_parh)]\n",
    "\n",
    "#check number of data-path\n",
    "#print(len(test_path)) #560 for validation"
   ]
  },
  {
   "cell_type": "code",
   "execution_count": 3,
   "id": "00741d01",
   "metadata": {
    "tags": []
   },
   "outputs": [],
   "source": [
    "# Define function to read data\n",
    "\n",
    "def load_medical_records(paths):\n",
    "    medical_record_dict = {}\n",
    "    for data_path in paths:\n",
    "\n",
    "        if os.path.isfile(data_path):\n",
    "            file_id = data_path.split(\"/\")[-1].split(\".txt\")[0]\n",
    "            with open(data_path, \"r\", encoding=\"utf-8\") as f:\n",
    "                file_text = f.read()\n",
    "                medical_record_dict[file_id] = file_text\n",
    "    return medical_record_dict\n",
    "\n",
    "test_record_dict = load_medical_records(test_path)"
   ]
  },
  {
   "cell_type": "code",
   "execution_count": 4,
   "id": "a41f8e8b",
   "metadata": {
    "tags": []
   },
   "outputs": [
    {
     "name": "stdout",
     "output_type": "stream",
     "text": [
      "560\n"
     ]
    }
   ],
   "source": [
    "# double check\n",
    "print(len(list(test_record_dict.keys())))"
   ]
  },
  {
   "cell_type": "code",
   "execution_count": 5,
   "id": "5bbc888c",
   "metadata": {
    "tags": []
   },
   "outputs": [
    {
     "name": "stdout",
     "output_type": "stream",
     "text": [
      "{'OTHER': 0, 'PATIENT': 1, 'DOCTOR': 2, 'CITY': 3, 'ROOM': 4, 'STREET': 5, 'MEDICALRECORD': 6, 'DEPARTMENT': 7, 'LOCATION-OTHER': 8, 'COUNTRY': 9, 'IDNUM': 10, 'STATE': 11, 'AGE': 12, 'SET': 13, 'HOSPITAL': 14, 'DATE': 15, 'ZIP': 16, 'URL': 17, 'DURATION': 18, 'ORGANIZATION': 19, 'TIME': 20, 'PHONE': 21}\n"
     ]
    }
   ],
   "source": [
    "# fix label_type\n",
    "labels_type_table={'OTHER': 0, 'PATIENT': 1, 'DOCTOR': 2, 'CITY': 3, 'ROOM': 4, 'STREET': 5, 'MEDICALRECORD': 6, 'DEPARTMENT': 7, 'LOCATION-OTHER': 8, 'COUNTRY': 9, 'IDNUM': 10, 'STATE': 11, 'AGE': 12, 'SET': 13, 'HOSPITAL': 14, 'DATE': 15, 'ZIP': 16, 'URL': 17, 'DURATION': 18, 'ORGANIZATION': 19, 'TIME': 20, 'PHONE': 21}\n",
    "print(labels_type_table)"
   ]
  },
  {
   "cell_type": "markdown",
   "id": "789ac778",
   "metadata": {},
   "source": [
    "### predict"
   ]
  },
  {
   "cell_type": "code",
   "execution_count": 6,
   "id": "5d8380a1",
   "metadata": {
    "tags": []
   },
   "outputs": [],
   "source": [
    "model_name = \"allenai/longformer-base-4096\"\n",
    "tokenizer = AutoTokenizer.from_pretrained(model_name, use_fast=True)"
   ]
  },
  {
   "cell_type": "code",
   "execution_count": 7,
   "id": "c49e81e6",
   "metadata": {
    "tags": []
   },
   "outputs": [],
   "source": [
    "from transformers import LongformerModel\n",
    "from torchcrf import CRF\n",
    "\n",
    "class MyLongformerModel(nn.Module):\n",
    "    def __init__(self, num_labels):\n",
    "        super(MyLongformerModel, self).__init__()\n",
    "\n",
    "        self.longformer = LongformerModel.from_pretrained('allenai/longformer-base-4096')\n",
    "        self.dropout = nn.Dropout(p=0.1)\n",
    "        self.classifier = nn.Linear(768, num_labels)\n",
    "        self.crf = CRF(num_labels, batch_first=True)\n",
    "\n",
    "    def forward(self, input_ids, attention_mask, labels=None):\n",
    "        outputs = self.longformer(input_ids=input_ids, attention_mask=attention_mask, return_dict=True)\n",
    "        sequence_output = self.dropout(outputs.last_hidden_state)\n",
    "        logits = self.classifier(sequence_output)\n",
    "\n",
    "        if labels is not None:\n",
    "            loss = -self.crf(logits, labels, mask=attention_mask.byte())\n",
    "            return loss\n",
    "        else:\n",
    "            return self.crf.decode(logits, mask=attention_mask.byte())\n",
    "\n",
    "model = MyLongformerModel(num_labels=22)\n"
   ]
  },
  {
   "cell_type": "code",
   "execution_count": 8,
   "id": "b07527bb",
   "metadata": {
    "tags": []
   },
   "outputs": [
    {
     "data": {
      "text/plain": [
       "<All keys matched successfully>"
      ]
     },
     "execution_count": 8,
     "metadata": {},
     "output_type": "execute_result"
    }
   ],
   "source": [
    "\n",
    "model_path = './model/longformer-crf_14_0.9815750423541777'\n",
    "model.load_state_dict(torch.load(model_path, map_location=torch.device('cuda')))\n",
    "\n",
    "\n"
   ]
  },
  {
   "cell_type": "code",
   "execution_count": 9,
   "id": "dae56703",
   "metadata": {
    "tags": []
   },
   "outputs": [],
   "source": [
    "def decode_model_result(model_predict_list, offsets_mapping, labels_type_table):\n",
    "    id_to_label = {id: label for label, id in labels_type_table.items()}\n",
    "    predict_y = []\n",
    "    pre_label_id = 0\n",
    "\n",
    "    for position_id, label_id in enumerate(model_predict_list):\n",
    "        if label_id != 0:\n",
    "            if pre_label_id != label_id:\n",
    "                start = int(offsets_mapping[position_id][0])\n",
    "            end = int(offsets_mapping[position_id][1])\n",
    "\n",
    "        if pre_label_id != label_id and pre_label_id != 0:\n",
    "            predict_y.append([id_to_label[pre_label_id], start, end])\n",
    "        pre_label_id = label_id\n",
    "\n",
    "    if pre_label_id != 0:\n",
    "        predict_y.append([id_to_label[pre_label_id], start, end])\n",
    "\n",
    "    return predict_y\n",
    "\n",
    "\n",
    "def merge_overlapping_predictions(predictions):\n",
    "    if not predictions:\n",
    "        return []\n",
    "\n",
    "    sorted_predictions = sorted(predictions, key=lambda x: x[1])\n",
    "\n",
    "    merged_predictions = [sorted_predictions[0]]\n",
    "    for current in sorted_predictions[1:]:\n",
    "        last = merged_predictions[-1]\n",
    "        if current[0] == last[0] and current[1] <= last[2]:\n",
    "            merged_predictions[-1] = (last[0], last[1], max(last[2], current[2]))\n",
    "        else:\n",
    "            merged_predictions.append(current)\n",
    "\n",
    "    return merged_predictions\n",
    "\n",
    "def predict_text_segments(models, tokenizer, text, max_length, overlap, device):\n",
    "    all_model_predictions = []\n",
    "\n",
    "    for model in models:\n",
    "        model_predictions = []\n",
    "        offset = 0\n",
    "        for i in range(0, len(text), max_length - overlap):\n",
    "            segment = text[i:i+max_length]\n",
    "            encodings = tokenizer(segment, padding=True, truncation=True, return_tensors=\"pt\", return_offsets_mapping=True)\n",
    "            encodings[\"input_ids\"] = encodings[\"input_ids\"].to(device)\n",
    "            encodings[\"attention_mask\"] = encodings[\"attention_mask\"].to(device)\n",
    "\n",
    "            with torch.no_grad():\n",
    "                outputs = model(encodings[\"input_ids\"], encodings[\"attention_mask\"])\n",
    "                model_predict_list = outputs[0]\n",
    "                predictions = decode_model_result(model_predict_list, encodings[\"offset_mapping\"][0], labels_type_table)\n",
    "\n",
    "            adjusted_predictions = [(label, start+offset, end+offset) for label, start, end in predictions]\n",
    "            model_predictions.extend(adjusted_predictions)\n",
    "            offset = i + max_length - overlap\n",
    "        all_model_predictions.append(model_predictions)\n",
    "\n",
    "    final_predictions = merge_and_vote(all_model_predictions)\n",
    "    return final_predictions\n",
    "\n",
    "\n",
    "\n",
    "\n",
    "\n"
   ]
  },
  {
   "cell_type": "code",
   "execution_count": 10,
   "id": "c9dceca3",
   "metadata": {
    "tags": []
   },
   "outputs": [],
   "source": [
    "def post_processing(label_name, start, end, text_segment):\n",
    "    processed_label = label_name.strip()\n",
    "\n",
    "    if processed_label.endswith('-') or processed_label.endswith('\"') or processed_label.endswith(\"'\"):\n",
    "        processed_label = processed_label[:-1]\n",
    "        end -= 1\n",
    "\n",
    "    if processed_label == 'DATE' and text_segment.isdigit() and len(text_segment) > 8:\n",
    "        end = start + 8 \n",
    "        text_segment = text_segment[:8]  \n",
    "\n",
    "    if processed_label == 'STATE':\n",
    "        if text_segment.endswith('TAS'):\n",
    "            text_segment = 'TAS'\n",
    "            start = end - 3  \n",
    "        elif (len(text_segment) >= 3):\n",
    "            if text_segment[0].isupper() and text_segment[1].isupper() and text_segment[2].islower():\n",
    "                if len(text_segment) == 3:\n",
    "                    text_segment = text_segment[:2]  \n",
    "                    end -= 1\n",
    "                else:\n",
    "                    text_segment = text_segment[1:]  \n",
    "                    start += 1   \n",
    "\n",
    "    if processed_label == 'CITY':\n",
    "        if any(text_segment.endswith(suffix) for suffix in ['ONT', 'LET', 'NET', 'LAT']):\n",
    "            end -= 1  \n",
    "        elif any(text_segment.endswith(suffix) for suffix in ['RAS', 'CHS', 'LES']):\n",
    "            end -= 1  \n",
    "\n",
    "    return processed_label, start, end, text_segment\n",
    "\n"
   ]
  },
  {
   "cell_type": "code",
   "execution_count": 11,
   "id": "56d716cd",
   "metadata": {
    "tags": []
   },
   "outputs": [],
   "source": [
    "def merge_continuous_time_labels(predictions):\n",
    "    merged_predictions = []\n",
    "    prev_label = None\n",
    "\n",
    "    for label_name, start, end, predict_str in predictions:\n",
    "        if label_name == 'TIME' and prev_label and prev_label['label_name'] == 'TIME':\n",
    "            if prev_label['end'] + 1 == start:\n",
    "                prev_label['predict_str'] += ' ' + predict_str\n",
    "                prev_label['end'] = end\n",
    "                continue\n",
    "\n",
    "        if prev_label:\n",
    "            merged_predictions.append((prev_label['label_name'], prev_label['start'], prev_label['end'], prev_label['predict_str']))\n",
    "\n",
    "        prev_label = {'label_name': label_name, 'start': start, 'end': end, 'predict_str': predict_str}\n",
    "\n",
    "    if prev_label:\n",
    "        merged_predictions.append((prev_label['label_name'], prev_label['start'], prev_label['end'], prev_label['predict_str']))\n",
    "\n",
    "    return merged_predictions"
   ]
  },
  {
   "cell_type": "code",
   "execution_count": 12,
   "id": "a258f08e",
   "metadata": {
    "tags": []
   },
   "outputs": [],
   "source": [
    "\n",
    "def predict_for_single_sample(model, tokenizer, sample_id, val_medical_record_dict, device, max_length=4096, overlap=512):\n",
    "    output_string = \"\"\n",
    "    sample_text = val_medical_record_dict[sample_id]\n",
    "    predictions = predict_text_segments(model, tokenizer, sample_text, max_length, overlap, device)\n",
    "    final_predictions = merge_overlapping_predictions(predictions)\n",
    "\n",
    "    extended_predictions = [(label_name, start, end, sample_text[start:end]) for label_name, start, end in final_predictions]\n",
    "\n",
    "    merged_predictions = merge_continuous_time_labels(extended_predictions)\n",
    "\n",
    "    for label_name, start, end, predict_str in merged_predictions:\n",
    "        label_name, start, end, predict_str = post_processing(label_name, start, end, predict_str)\n",
    "        sample_result_str = f\"{sample_id}\\t{label_name}\\t{start}\\t{end}\\t{predict_str}\\n\"\n",
    "        output_string += sample_result_str\n",
    "\n",
    "    return output_string"
   ]
  },
  {
   "cell_type": "code",
   "execution_count": 13,
   "id": "9b21c042",
   "metadata": {
    "tags": []
   },
   "outputs": [],
   "source": [
    "device = torch.device('cuda') if torch.cuda.is_available() else torch.device('cpu')\n",
    "model = model.to(device)"
   ]
  },
  {
   "cell_type": "code",
   "execution_count": 14,
   "id": "a6337e5a",
   "metadata": {
    "tags": []
   },
   "outputs": [
    {
     "name": "stderr",
     "output_type": "stream",
     "text": [
      "/usr/local/lib/python3.10/dist-packages/torchcrf/__init__.py:305: UserWarning: where received a uint8 condition tensor. This behavior is deprecated and will be removed in a future version of PyTorch. Use a boolean condition instead. (Triggered internally at /opt/pytorch/pytorch/aten/src/ATen/native/TensorCompare.cpp:519.)\n",
      "  score = torch.where(mask[i].unsqueeze(1), next_score, score)\n"
     ]
    },
    {
     "name": "stdout",
     "output_type": "stream",
     "text": [
      "file5124\tDATE\t12\t19\t2015083\n",
      "file5124\tHOSPITAL\t36\t58\tCOBRAM DISTRICT HEALTH\n",
      "file5124\tPATIENT\t71\t76\tCorle\n",
      "file5124\tIDNUM\t85\t95\t22N444639B\n",
      "file5124\tMEDICALRECORD\t102\t109\t2254446\n",
      "file5124\tAGE\t247\t249\t79\n",
      "file5124\tDOCTOR\t892\t902\tF Koudelka\n",
      "file5124\tDOCTOR\t1362\t1374\tF Wiltberger\n",
      "file5124\tDOCTOR\t1988\t1996\tF Musich\n",
      "file5124\tDOCTOR\t4180\t4187\tF Comee\n",
      "file5124\tDOCTOR\t4570\t4582\tF Blachowski\n",
      "file5124\tDATE\t4638\t4644\t2/6/72\n",
      "file5124\tDOCTOR\t4676\t4683\tF Itani\n",
      "file5124\tDATE\t7618\t7626\t8/6/2071\n",
      "file5124\tTIME\t7888\t7907\t2846-12-08 00:00:00\n",
      "file5124\tPATIENT\t7919\t7926\tEndsley\n",
      "\n"
     ]
    }
   ],
   "source": [
    "# test for one sample\n",
    "sample_id = \"file5124\"  \n",
    "print(predict_for_single_sample(model, tokenizer, sample_id, test_record_dict, device))"
   ]
  },
  {
   "cell_type": "code",
   "execution_count": 15,
   "id": "81f0178b",
   "metadata": {
    "tags": []
   },
   "outputs": [],
   "source": [
    "def predict_for_entire_dataset(model, tokenizer, val_medical_record_dict, device, max_length=4096, overlap=512):\n",
    "    output_string = \"\"\n",
    "    for sample_id, sample_text in val_medical_record_dict.items():\n",
    "        predictions = predict_text_segments(model, tokenizer, sample_text, max_length, overlap, device)\n",
    "        final_predictions = merge_overlapping_predictions(predictions)\n",
    "\n",
    "        extended_predictions = [(label_name, start, end, sample_text[start:end]) for label_name, start, end in final_predictions]\n",
    "\n",
    "        merged_predictions = merge_continuous_time_labels(extended_predictions)\n",
    "\n",
    "        for label_name, start, end, predict_str in merged_predictions:\n",
    "            label_name, start, end, predict_str = post_processing(label_name, start, end, predict_str)\n",
    "            sample_result_str = f\"{sample_id}\\t{label_name}\\t{start}\\t{end}\\t{predict_str}\\n\"\n",
    "            output_string += sample_result_str\n",
    "\n",
    "    return output_string\n"
   ]
  },
  {
   "cell_type": "code",
   "execution_count": 16,
   "id": "8c8cdc02",
   "metadata": {
    "tags": []
   },
   "outputs": [],
   "source": [
    "output_string = predict_for_entire_dataset(model, tokenizer, test_record_dict, device)\n",
    "\n",
    "submission_dir = \"./submission\"\n",
    "if not os.path.exists(submission_dir):\n",
    "    os.mkdir(submission_dir)\n",
    "\n",
    "with open(os.path.join(submission_dir, \"answer.txt\"), \"w\", encoding=\"utf-8\") as f:\n",
    "    f.write(output_string)"
   ]
  }
 ],
 "metadata": {
  "kernelspec": {
   "display_name": "Python 3 (ipykernel)",
   "language": "python",
   "name": "python3"
  },
  "language_info": {
   "codemirror_mode": {
    "name": "ipython",
    "version": 3
   },
   "file_extension": ".py",
   "mimetype": "text/x-python",
   "name": "python",
   "nbconvert_exporter": "python",
   "pygments_lexer": "ipython3",
   "version": "3.10.12"
  }
 },
 "nbformat": 4,
 "nbformat_minor": 5
}
