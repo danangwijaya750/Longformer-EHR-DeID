{
 "cells": [
  {
   "cell_type": "code",
   "execution_count": 5,
   "id": "8b83ea87",
   "metadata": {
    "tags": []
   },
   "outputs": [],
   "source": [
    "# library\n",
    "import os\n",
    "import json\n",
    "import random"
   ]
  },
  {
   "cell_type": "code",
   "execution_count": 7,
   "id": "529e2a08",
   "metadata": {},
   "outputs": [],
   "source": [
    "seed = 61\n",
    "\n",
    "random.seed(seed)"
   ]
  },
  {
   "cell_type": "markdown",
   "id": "9520f633",
   "metadata": {},
   "source": [
    "### load data"
   ]
  },
  {
   "cell_type": "code",
   "execution_count": 8,
   "id": "3c6f6ecd",
   "metadata": {
    "tags": []
   },
   "outputs": [
    {
     "name": "stdout",
     "output_type": "stream",
     "text": [
      "1121\n",
      "615\n",
      "\n",
      "1736\n",
      "561\n"
     ]
    }
   ],
   "source": [
    "# data structure:\n",
    "# First_Phase_Release(Correction)/First_Phase_Text_Dataset/\n",
    "# First_Phase_Release(Correction)/answer.txt\n",
    "# Second_Phase_Dataset/Second_Phase_Text_Dataset/\n",
    "# Second_Phase_Dataset/answer.txt\n",
    "# validation_dataset/Validation_Release/\n",
    "# validation_dataset/answer.txt\n",
    "\n",
    "first_dataset_doc_path = \"./dataset/First_Phase_Release(Correction)/First_Phase_Text_Dataset/\"\n",
    "second_dataset_doc_path = \"./dataset/Second_Phase_Dataset/Second_Phase_Text_Dataset/\"\n",
    "label_path = [\"./dataset/First_Phase_Release(Correction)/answer.txt\", \"./dataset/Second_Phase_Dataset/answer.txt\"]\n",
    "val_dataset_doc_parh = \"./dataset/validation_dataset/Validation_Release/\"\n",
    "val_label_path = \"./dataset/validation_dataset/answer.txt\"\n",
    "\n",
    "first_dataset_path = [first_dataset_doc_path + file_path for file_path in os.listdir(first_dataset_doc_path)]\n",
    "second_dataset_path = [second_dataset_doc_path + file_path for file_path in os.listdir(second_dataset_doc_path)]\n",
    "train_path = first_dataset_path + second_dataset_path\n",
    "val_path = [val_dataset_doc_parh + file_path for file_path in os.listdir(val_dataset_doc_parh)]\n",
    "\n",
    "#check number of data-path\n",
    "print(len(first_dataset_path)) #1120\n",
    "print(len(second_dataset_path)) #614\n",
    "print()\n",
    "print(len(train_path)) #1734\n",
    "print(len(val_path)) #560"
   ]
  },
  {
   "cell_type": "code",
   "execution_count": 9,
   "id": "37757ff2",
   "metadata": {
    "tags": []
   },
   "outputs": [],
   "source": [
    "# we can use utf-8-sig to solve ufeff problem (need to remove for label)\n",
    "# Define function to read label\n",
    "\n",
    "def create_label_dict(label_path):\n",
    "    label_dict = {}  # y\n",
    "    with open(label_path, \"r\", encoding=\"utf-8-sig\") as f:\n",
    "        file_text = f.read().strip()  \n",
    "\n",
    "    # (id, label, start, end, query) or (id, label, start, end, query, time_org, timefix)\n",
    "    for line in file_text.split(\"\\n\"):\n",
    "        sample = line.split(\"\\t\")  \n",
    "        sample[2], sample[3] = int(sample[2]), int(sample[3])\n",
    "\n",
    "        if sample[0] not in label_dict:\n",
    "            label_dict[sample[0]] = [sample[1:]]\n",
    "        else:\n",
    "            label_dict[sample[0]].append(sample[1:])\n",
    "\n",
    "    return label_dict\n",
    "\n",
    "train_label_dict = create_label_dict(label_path[0])\n",
    "second_dataset_label_dict = create_label_dict(label_path[1])\n",
    "train_label_dict.update(second_dataset_label_dict)\n",
    "val_label_dict = create_label_dict(val_label_path)"
   ]
  },
  {
   "cell_type": "code",
   "execution_count": 10,
   "id": "6412173d",
   "metadata": {
    "tags": []
   },
   "outputs": [],
   "source": [
    "# Define function to read data\n",
    "\n",
    "def load_medical_records(paths):\n",
    "    medical_record_dict = {}\n",
    "    for data_path in paths:\n",
    "\n",
    "        if os.path.isfile(data_path):\n",
    "            file_id = data_path.split(\"/\")[-1].split(\".txt\")[0]\n",
    "            with open(data_path, \"r\", encoding=\"utf-8\") as f:\n",
    "                file_text = f.read()\n",
    "                medical_record_dict[file_id] = file_text\n",
    "    return medical_record_dict\n",
    "\n",
    "train_medical_record_dict = load_medical_records(train_path)\n",
    "val_medical_record_dict = load_medical_records(val_path)"
   ]
  },
  {
   "cell_type": "code",
   "execution_count": 11,
   "id": "9b59a310",
   "metadata": {
    "tags": []
   },
   "outputs": [
    {
     "name": "stdout",
     "output_type": "stream",
     "text": [
      "1734\n",
      "1734\n",
      "560\n",
      "560\n"
     ]
    }
   ],
   "source": [
    "#chect the number of data\n",
    "print(len(list(train_medical_record_dict.keys()))) #1734\n",
    "print(len(list(train_label_dict.keys()))) #1734\n",
    "print(len(list(val_medical_record_dict.keys()))) #560\n",
    "print(len(list(val_label_dict.keys()))) #560"
   ]
  },
  {
   "cell_type": "code",
   "execution_count": 12,
   "id": "8d6f1629",
   "metadata": {},
   "outputs": [],
   "source": [
    "all_medical_record_dict = {**train_medical_record_dict, **val_medical_record_dict}\n",
    "all_label_dict = {**train_label_dict, **val_label_dict}"
   ]
  },
  {
   "cell_type": "markdown",
   "id": "27805d2d",
   "metadata": {},
   "source": [
    "### clean data"
   ]
  },
  {
   "cell_type": "code",
   "execution_count": 13,
   "id": "4a0ca2c1",
   "metadata": {
    "tags": []
   },
   "outputs": [],
   "source": [
    "# # input id (String type)\n",
    "# #output the medical_record\n",
    "# print(train_medical_record_dict[\"10\"])\n",
    "\n",
    "# # input id (String type)\n",
    "# # output all labels from medical_record (list type)\n",
    "# pp(train_label_dict[\"10\"])\n",
    "\n",
    "def check_labels(text, labels, record_id, tag=False):\n",
    "    for i, label in enumerate(labels):  \n",
    "        extracted_text = text[label[1]:label[2]]\n",
    "        if extracted_text != label[3]:\n",
    "            print(f\"Error in ID {record_id}, Line {i}: {label[0]}, position: {label[1]}-{label[2]}, \"\n",
    "                  f\"label: '{label[3]}', extracted: '{extracted_text}'\")\n",
    "        elif tag:\n",
    "            print(f\"Correct in ID {record_id}, Line {i}: {label[0]}, position: {label[1]}-{label[2]}, extracted: '{extracted_text}'\")\n",
    "\n",
    "def check_all_labels(medical_records, label_dict, tag=False):\n",
    "    for record_id, text in medical_records.items():\n",
    "        if record_id in label_dict:\n",
    "            labels = label_dict[record_id]\n",
    "            check_labels(text, labels, record_id, tag)\n",
    "        else:\n",
    "            print(f\"ID: {record_id} has no label\")\n",
    "\n",
    "         "
   ]
  },
  {
   "cell_type": "code",
   "execution_count": 14,
   "id": "a4f11b65",
   "metadata": {
    "tags": []
   },
   "outputs": [
    {
     "name": "stdout",
     "output_type": "stream",
     "text": [
      "Error in ID 1139, Line 16: HOSPITAL, position: 2702-2722, label: 'PLANTAGENET HOSPITAL', extracted: 'PLANTAGENE3/9 JENNIE'\n",
      "Error in ID 1481, Line 21: DEPARTMENT, position: 2390-2403, label: 'SEALS Central', extracted: 'SEAKALBARRI H'\n",
      "Error in ID file21297, Line 20: ORGANIZATION, position: 6045-6064, label: 'KB Home Los Angeles', extracted: 'KB Home\tLos Angeles'\n"
     ]
    }
   ],
   "source": [
    "# check training data\n",
    "check_all_labels(all_medical_record_dict, all_label_dict)   "
   ]
  },
  {
   "cell_type": "code",
   "execution_count": 15,
   "id": "4a605071",
   "metadata": {
    "tags": []
   },
   "outputs": [
    {
     "name": "stdout",
     "output_type": "stream",
     "text": [
      "PLANTAGENE3/9 JENNIE\n",
      "['HOSPITAL', 2702, 2722, 'PLANTAGENET HOSPITAL']\n"
     ]
    }
   ],
   "source": [
    "# check 1139, PLANTAGENET 3/9 JENNIE COX CLOSE Pathology ?\n",
    "print(all_medical_record_dict['1139'][2702:2722])\n",
    "print(all_label_dict['1139'][16])\n",
    "\n",
    "# replace it\n",
    "all_label_dict['1139'][16][3]=all_medical_record_dict['1139'][2702:2722]"
   ]
  },
  {
   "cell_type": "code",
   "execution_count": 16,
   "id": "5722e980",
   "metadata": {
    "tags": []
   },
   "outputs": [
    {
     "name": "stdout",
     "output_type": "stream",
     "text": [
      "SEAKALBARRI H\n",
      "['DEPARTMENT', 2390, 2403, 'SEALS Central']\n"
     ]
    },
    {
     "data": {
      "text/plain": [
       "['DEPARTMENT', 2390, 2403, 'SEALS Central']"
      ]
     },
     "execution_count": 16,
     "metadata": {},
     "output_type": "execute_result"
    }
   ],
   "source": [
    "# check 1481, there is no DEPARTMENT\n",
    "print(all_medical_record_dict['1481'][2390:2403])\n",
    "print(all_label_dict['1481'][21])\n",
    "\n",
    "# remove it \n",
    "all_label_dict['1481'].pop(21)"
   ]
  },
  {
   "cell_type": "code",
   "execution_count": 17,
   "id": "9dcf47be",
   "metadata": {
    "tags": []
   },
   "outputs": [],
   "source": [
    "# check file21297, index 6047 is '\\t'\n",
    "all_medical_record_dict['file21297'][6045:6064]\n",
    "\n",
    "# replace it\n",
    "all_medical_record_dict['file21297'] = val_medical_record_dict['file21297'][:6047] + ' ' + val_medical_record_dict['file21297'][6048:]"
   ]
  },
  {
   "cell_type": "code",
   "execution_count": 18,
   "id": "95f4f37d",
   "metadata": {},
   "outputs": [
    {
     "name": "stdout",
     "output_type": "stream",
     "text": [
      "New Train Set Size: 1835\n",
      "New Validation Set Size: 459\n"
     ]
    }
   ],
   "source": [
    "all_keys = list(all_medical_record_dict.keys())\n",
    "random.shuffle(all_keys)\n",
    "train_size = int(0.8 * len(all_keys))\n",
    "val_size = len(all_keys) - train_size\n",
    "\n",
    "train_keys = all_keys[:train_size]\n",
    "val_keys = all_keys[train_size:]\n",
    "\n",
    "train_medical_record_dict = {key: all_medical_record_dict[key] for key in train_keys}\n",
    "train_label_dict = {key: all_label_dict[key] for key in train_keys}\n",
    "\n",
    "val_medical_record_dict = {key: all_medical_record_dict[key] for key in val_keys}\n",
    "val_label_dict = {key: all_label_dict[key] for key in val_keys}\n",
    "\n",
    "print(\"New Train Set Size:\", len(train_medical_record_dict))\n",
    "print(\"New Validation Set Size:\", len(val_medical_record_dict))"
   ]
  },
  {
   "cell_type": "markdown",
   "id": "6bd1e95a",
   "metadata": {},
   "source": [
    "### create label type table"
   ]
  },
  {
   "cell_type": "code",
   "execution_count": 19,
   "id": "3e04da84",
   "metadata": {
    "tags": []
   },
   "outputs": [
    {
     "name": "stdout",
     "output_type": "stream",
     "text": [
      "{'OTHER': 0, 'MEDICALRECORD': 1, 'LOCATION-OTHER': 2, 'DATE': 3, 'ZIP': 4, 'ORGANIZATION': 5, 'IDNUM': 6, 'HOSPITAL': 7, 'SET': 8, 'COUNTRY': 9, 'TIME': 10, 'PATIENT': 11, 'CITY': 12, 'PHONE': 13, 'ROOM': 14, 'AGE': 15, 'URL': 16, 'STREET': 17, 'DEPARTMENT': 18, 'DOCTOR': 19, 'DURATION': 20, 'STATE': 21}\n"
     ]
    }
   ],
   "source": [
    "#add special token [other] in label list\n",
    "labels_type = list(set( [label[0] for labels in train_label_dict.values() for label in labels] ))\n",
    "labels_type = [\"OTHER\"] + labels_type \n",
    "labels_num = len(labels_type)\n",
    "# print(labels_type)\n",
    "# print(\"The number of labels:\", labels_num)\n",
    "labels_type_table = {label_name:id for id, label_name in enumerate(labels_type)}\n",
    "print(labels_type_table)"
   ]
  },
  {
   "cell_type": "code",
   "execution_count": 20,
   "id": "ac3a0077",
   "metadata": {
    "tags": []
   },
   "outputs": [
    {
     "name": "stdout",
     "output_type": "stream",
     "text": [
      "{'OTHER': 0, 'PATIENT': 1, 'DOCTOR': 2, 'CITY': 3, 'ROOM': 4, 'STREET': 5, 'MEDICALRECORD': 6, 'DEPARTMENT': 7, 'LOCATION-OTHER': 8, 'COUNTRY': 9, 'IDNUM': 10, 'STATE': 11, 'AGE': 12, 'SET': 13, 'HOSPITAL': 14, 'DATE': 15, 'ZIP': 16, 'URL': 17, 'DURATION': 18, 'ORGANIZATION': 19, 'TIME': 20, 'PHONE': 21}\n"
     ]
    }
   ],
   "source": [
    "# fix it\n",
    "labels_type_table={'OTHER': 0, 'PATIENT': 1, 'DOCTOR': 2, 'CITY': 3, 'ROOM': 4, 'STREET': 5, 'MEDICALRECORD': 6, 'DEPARTMENT': 7, 'LOCATION-OTHER': 8, 'COUNTRY': 9, 'IDNUM': 10, 'STATE': 11, 'AGE': 12, 'SET': 13, 'HOSPITAL': 14, 'DATE': 15, 'ZIP': 16, 'URL': 17, 'DURATION': 18, 'ORGANIZATION': 19, 'TIME': 20, 'PHONE': 21}\n",
    "print(labels_type_table)"
   ]
  },
  {
   "cell_type": "code",
   "execution_count": 21,
   "id": "ff5cf36b",
   "metadata": {
    "tags": []
   },
   "outputs": [],
   "source": [
    "#check the label_type is enough for validation\n",
    "val_labels_type = list(set( [label[0] for labels in val_label_dict.values() for label in labels] ))\n",
    "for val_label_type in val_labels_type:\n",
    "    if val_label_type not in labels_type:\n",
    "        print(\"Special label in validation:\", val_label_type)"
   ]
  },
  {
   "cell_type": "code",
   "execution_count": 22,
   "id": "b3c18a33",
   "metadata": {},
   "outputs": [],
   "source": [
    "# Function to count label distribution\n",
    "def count_label_distribution(label_dict, labels_type_table):\n",
    "    label_counts = {label: 0 for label in labels_type_table.keys()}\n",
    "    for labels in label_dict.values():\n",
    "        for label_info in labels:\n",
    "            label = label_info[0]  # Extract label name\n",
    "            if label in label_counts:\n",
    "                label_counts[label] += 1\n",
    "    return label_counts"
   ]
  },
  {
   "cell_type": "code",
   "execution_count": 23,
   "id": "01065c26",
   "metadata": {},
   "outputs": [
    {
     "name": "stdout",
     "output_type": "stream",
     "text": [
      "Train Label Distribution:\n",
      "  OTHER: 0\n",
      "  PATIENT: 1885\n",
      "  DOCTOR: 6987\n",
      "  CITY: 1020\n",
      "  ROOM: 1\n",
      "  STREET: 980\n",
      "  MEDICALRECORD: 1912\n",
      "  DEPARTMENT: 1135\n",
      "  LOCATION-OTHER: 7\n",
      "  COUNTRY: 3\n",
      "  IDNUM: 3918\n",
      "  STATE: 952\n",
      "  AGE: 146\n",
      "  SET: 11\n",
      "  HOSPITAL: 1915\n",
      "  DATE: 5108\n",
      "  ZIP: 994\n",
      "  URL: 3\n",
      "  DURATION: 28\n",
      "  ORGANIZATION: 113\n",
      "  TIME: 1256\n",
      "  PHONE: 9\n",
      "\n",
      "Validation Label Distribution:\n",
      "  OTHER: 0\n",
      "  PATIENT: 479\n",
      "  DOCTOR: 1745\n",
      "  CITY: 256\n",
      "  ROOM: 0\n",
      "  STREET: 240\n",
      "  MEDICALRECORD: 475\n",
      "  DEPARTMENT: 268\n",
      "  LOCATION-OTHER: 3\n",
      "  COUNTRY: 2\n",
      "  IDNUM: 936\n",
      "  STATE: 233\n",
      "  AGE: 38\n",
      "  SET: 3\n",
      "  HOSPITAL: 478\n",
      "  DATE: 1285\n",
      "  ZIP: 244\n",
      "  URL: 0\n",
      "  DURATION: 6\n",
      "  ORGANIZATION: 47\n",
      "  TIME: 279\n",
      "  PHONE: 2\n"
     ]
    }
   ],
   "source": [
    "# Calculate label distribution\n",
    "train_label_distribution = count_label_distribution(train_label_dict, labels_type_table)\n",
    "val_label_distribution = count_label_distribution(val_label_dict, labels_type_table)\n",
    "\n",
    "# Print results\n",
    "print(\"Train Label Distribution:\")\n",
    "for label, count in train_label_distribution.items():\n",
    "    print(f\"  {label}: {count}\")\n",
    "\n",
    "print(\"\\nValidation Label Distribution:\")\n",
    "for label, count in val_label_distribution.items():\n",
    "    print(f\"  {label}: {count}\")"
   ]
  },
  {
   "cell_type": "markdown",
   "id": "212f3e8e",
   "metadata": {},
   "source": [
    "## analysis"
   ]
  },
  {
   "cell_type": "code",
   "execution_count": 26,
   "id": "d6dd962c",
   "metadata": {},
   "outputs": [],
   "source": [
    "import json\n",
    "\n",
    "def load_metrics_from_file(filename):\n",
    "    with open(filename, 'r') as file:\n",
    "        metrics = json.load(file)\n",
    "    return metrics\n",
    "\n",
    "filename = 'training_stat_longformerCRF.json'\n",
    "training_stats = load_metrics_from_file(filename)\n",
    "\n",
    "#print(training_stats)"
   ]
  },
  {
   "cell_type": "code",
   "execution_count": 27,
   "id": "6da2e2de",
   "metadata": {},
   "outputs": [],
   "source": [
    "def calculate_micro_metrics(confusion_matrix):\n",
    "    micro_TP = sum(scores[\"TP\"] for scores in confusion_matrix.values())\n",
    "    micro_FP = sum(scores[\"FP\"] for scores in confusion_matrix.values())\n",
    "    micro_FN = sum(scores[\"FN\"] for scores in confusion_matrix.values())\n",
    "\n",
    "    micro_precision = micro_TP / (micro_TP + micro_FP) if micro_TP + micro_FP > 0 else 0\n",
    "    micro_recall = micro_TP / (micro_TP + micro_FN) if micro_TP + micro_FN > 0 else 0\n",
    "    micro_f1 = 2 * (micro_precision * micro_recall) / (micro_precision + micro_recall) if micro_precision + micro_recall > 0 else 0\n",
    "\n",
    "    return micro_precision, micro_recall, micro_f1\n",
    "\n",
    "def calculate_macro_metrics(confusion_matrix):\n",
    "    num_labels = len(confusion_matrix)-1   #remove 'other'\n",
    "    macro_precision = macro_recall = macro_f1 = 0\n",
    "\n",
    "    for scores in confusion_matrix.values():\n",
    "        precision = scores[\"TP\"] / (scores[\"TP\"] + scores[\"FP\"]) if scores[\"TP\"] + scores[\"FP\"] > 0 else 0\n",
    "        recall = scores[\"TP\"] / (scores[\"TP\"] + scores[\"FN\"]) if scores[\"TP\"] + scores[\"FN\"] > 0 else 0\n",
    "        f1 = 2 * (precision * recall) / (precision + recall) if precision + recall > 0 else 0\n",
    "\n",
    "        macro_precision += precision\n",
    "        macro_recall += recall\n",
    "        macro_f1 += f1\n",
    "\n",
    "    macro_precision /= num_labels\n",
    "    macro_recall /= num_labels\n",
    "    macro_f1 /= num_labels\n",
    "\n",
    "    return macro_precision, macro_recall, macro_f1"
   ]
  },
  {
   "cell_type": "code",
   "execution_count": 28,
   "id": "fcce8175",
   "metadata": {},
   "outputs": [
    {
     "name": "stdout",
     "output_type": "stream",
     "text": [
      "Epoch 0\n",
      "Train Micro: Precision - 0.47317856260805136, Recall - 0.6751356684755797, F1 - 0.5563977464134287\n",
      "Validation Micro: Precision - 0.94505805720759, Recall - 0.9515255203877958, F1 - 0.9482807615799943\n",
      "Train Macro: Precision - 0.3266505303306142, Recall - 0.3525592287926214, F1 - 0.3250544173903867\n",
      "Validation Macro: Precision - 0.5388141820706096, Recall - 0.5494074310339736, F1 - 0.5439460901939769\n",
      "--------------------------------------------------\n",
      "Epoch 1\n",
      "Train Micro: Precision - 0.9462044231918709, Recall - 0.9483050250193812, F1 - 0.9472535595487425\n",
      "Validation Micro: Precision - 0.9536031589338598, Recall - 0.9640718562874252, F1 - 0.9588089330024814\n",
      "Train Macro: Precision - 0.599243673392151, Recall - 0.5525470210100747, F1 - 0.5511802778204754\n",
      "Validation Macro: Precision - 0.6051050127789189, Recall - 0.5785441898095675, F1 - 0.5800316207793217\n",
      "--------------------------------------------------\n",
      "Epoch 2\n",
      "Train Micro: Precision - 0.963189967945331, Recall - 0.9635633237014589, F1 - 0.9633766096499727\n",
      "Validation Micro: Precision - 0.9603096410978185, Recall - 0.97276874821785, F1 - 0.9664990438416319\n",
      "Train Macro: Precision - 0.6181370881401036, Recall - 0.5948622780566358, F1 - 0.6007768147408582\n",
      "Validation Macro: Precision - 0.6133840231179027, Recall - 0.624019137061072, F1 - 0.6178290127390826\n",
      "--------------------------------------------------\n",
      "Epoch 3\n",
      "Train Micro: Precision - 0.9727234282492246, Recall - 0.9726548734935514, F1 - 0.9726891496634599\n",
      "Validation Micro: Precision - 0.971461025131336, Recall - 0.9754776161961791, F1 - 0.9734651774916412\n",
      "Train Macro: Precision - 0.6385640903914787, Recall - 0.6244005877107259, F1 - 0.6255706385812797\n",
      "Validation Macro: Precision - 0.6751075787600628, Recall - 0.6658126651539799, F1 - 0.6676713277033197\n",
      "--------------------------------------------------\n",
      "Epoch 4\n",
      "Train Micro: Precision - 0.9744463971880493, Recall - 0.9769187398689125, F1 - 0.9756810023227986\n",
      "Validation Micro: Precision - 0.9741330301307561, Recall - 0.9771884801824922, F1 - 0.975658362989324\n",
      "Train Macro: Precision - 0.7186506281377791, Recall - 0.6684778504466355, F1 - 0.6772190129654577\n",
      "Validation Macro: Precision - 0.7342109190641966, Recall - 0.7172514481548179, F1 - 0.7237339192469128\n",
      "--------------------------------------------------\n",
      "Epoch 5\n",
      "Train Micro: Precision - 0.9774528800422758, Recall - 0.9776939883007963, F1 - 0.9775734193048289\n",
      "Validation Micro: Precision - 0.9651769350063443, Recall - 0.9760479041916168, F1 - 0.9705819805770186\n",
      "Train Macro: Precision - 0.7132459446237998, Recall - 0.712768447412649, F1 - 0.7127797360788202\n",
      "Validation Macro: Precision - 0.7130305825689949, Recall - 0.730701975967534, F1 - 0.7194545108070989\n",
      "--------------------------------------------------\n",
      "Epoch 6\n",
      "Train Micro: Precision - 0.9801112362714728, Recall - 0.9811473676791881, F1 - 0.9806290282816186\n",
      "Validation Micro: Precision - 0.976962457337884, Recall - 0.979469632164243, F1 - 0.9782144382742418\n",
      "Train Macro: Precision - 0.7531071292188615, Recall - 0.7631876928435507, F1 - 0.7577132655460401\n",
      "Validation Macro: Precision - 0.75352653390461, Recall - 0.7488514251807438, F1 - 0.7493025848697775\n",
      "--------------------------------------------------\n",
      "Epoch 7\n",
      "Train Micro: Precision - 0.9819147813236692, Recall - 0.9834026358446684, F1 - 0.9826581453898837\n",
      "Validation Micro: Precision - 0.9768268410577197, Recall - 0.9796122041631024, F1 - 0.9782175398633257\n",
      "Train Macro: Precision - 0.7520689867628251, Recall - 0.7572474569140076, F1 - 0.7534923741677949\n",
      "Validation Macro: Precision - 0.7561598337697257, Recall - 0.7381697470614297, F1 - 0.7439900177149087\n",
      "--------------------------------------------------\n",
      "Epoch 8\n",
      "Train Micro: Precision - 0.982803488535659, Recall - 0.9848121784480935, F1 - 0.9838068081810821\n",
      "Validation Micro: Precision - 0.972896267915425, Recall - 0.977473624180211, F1 - 0.9751795747101912\n",
      "Train Macro: Precision - 0.7394341668890829, Recall - 0.7569208530189618, F1 - 0.7474455009172247\n",
      "Validation Macro: Precision - 0.7172407747301774, Recall - 0.7164745493435171, F1 - 0.7156314606783893\n",
      "--------------------------------------------------\n",
      "Epoch 9\n",
      "Train Micro: Precision - 0.9853801169590644, Recall - 0.9856579040101487, F1 - 0.9855189909097315\n",
      "Validation Micro: Precision - 0.9749787955894826, Recall - 0.9833190761334474, F1 - 0.9791311754684838\n",
      "Train Macro: Precision - 0.815277480957371, Recall - 0.7901822285707499, F1 - 0.7955570281489942\n",
      "Validation Macro: Precision - 0.7930078441681736, Recall - 0.8065709921449559, F1 - 0.7968521834164873\n",
      "--------------------------------------------------\n",
      "Epoch 10\n",
      "Train Micro: Precision - 0.9856951589035304, Recall - 0.9858340968355769, F1 - 0.9857646229739253\n",
      "Validation Micro: Precision - 0.9776045357902197, Recall - 0.9833190761334474, F1 - 0.980453479280688\n",
      "Train Macro: Precision - 0.8148651671704099, Recall - 0.8102273429675252, F1 - 0.8112967553898487\n",
      "Validation Macro: Precision - 0.7964350660024634, Recall - 0.806594008725869, F1 - 0.7986726881120334\n",
      "--------------------------------------------------\n",
      "Epoch 11\n",
      "Train Micro: Precision - 0.9868277392315007, Recall - 0.9873493551342589, F1 - 0.9870884782723574\n",
      "Validation Micro: Precision - 0.9795221843003413, Recall - 0.9820359281437125, F1 - 0.9807774455360957\n",
      "Train Macro: Precision - 0.8077098614755391, Recall - 0.8185843109461045, F1 - 0.8119091156762896\n",
      "Validation Macro: Precision - 0.7994106343676057, Recall - 0.7890627278649417, F1 - 0.7904875660743171\n",
      "--------------------------------------------------\n",
      "Epoch 12\n",
      "Train Micro: Precision - 0.9864084507042253, Recall - 0.9871731623088308, F1 - 0.9867906583535877\n",
      "Validation Micro: Precision - 0.9784397163120567, Recall - 0.9834616481323069, F1 - 0.9809442548350398\n",
      "Train Macro: Precision - 0.8278409026097429, Recall - 0.8270497364701754, F1 - 0.8273241049273136\n",
      "Validation Macro: Precision - 0.7977708568366497, Recall - 0.8073232432926519, F1 - 0.7997003834523972\n",
      "--------------------------------------------------\n",
      "Epoch 13\n",
      "Train Micro: Precision - 0.9874933943984499, Recall - 0.9877369793502009, F1 - 0.9876151718549055\n",
      "Validation Micro: Precision - 0.9761029411764706, Recall - 0.9841745081266039, F1 - 0.980122107056652\n",
      "Train Macro: Precision - 0.8804511673550179, Recall - 0.8778472844984522, F1 - 0.8790308779611108\n",
      "Validation Macro: Precision - 0.7896065630785907, Recall - 0.8120873482830698, F1 - 0.7957754135042437\n",
      "--------------------------------------------------\n",
      "Epoch 14\n",
      "Train Micro: Precision - 0.9875634160090192, Recall - 0.9877722179152865, F1 - 0.9876678059265\n",
      "Validation Micro: Precision - 0.9796759522455941, Recall - 0.9827487881380097, F1 - 0.9812099644128114\n",
      "Train Macro: Precision - 0.8704741079902506, Recall - 0.8698201837064626, F1 - 0.8699902943339152\n",
      "Validation Macro: Precision - 0.7865841999795358, Recall - 0.781903527904307, F1 - 0.7808441752698945\n",
      "--------------------------------------------------\n",
      "Epoch 15\n",
      "Train Micro: Precision - 0.9869704546254886, Recall - 0.987631263654944, F1 - 0.9873007485689124\n",
      "Validation Micro: Precision - 0.976240984302079, Recall - 0.9841745081266039, F1 - 0.9801916932907347\n",
      "Train Macro: Precision - 0.8699300551754922, Recall - 0.8659551088395839, F1 - 0.8678377011780112\n",
      "Validation Macro: Precision - 0.7967322694067246, Recall - 0.8071521584956013, F1 - 0.7990492806672143\n",
      "--------------------------------------------------\n",
      "Epoch 16\n",
      "Train Micro: Precision - 0.9873917024723533, Recall - 0.9879484107407146, F1 - 0.987669978158247\n",
      "Validation Micro: Precision - 0.9803306727480046, Recall - 0.9806102081551183, F1 - 0.9804704205274413\n",
      "Train Macro: Precision - 0.9217943511690174, Recall - 0.8924432636059146, F1 - 0.8988774495152361\n",
      "Validation Macro: Precision - 0.7947032941199383, Recall - 0.7971779938652448, F1 - 0.7933718316320534\n",
      "--------------------------------------------------\n",
      "Epoch 17\n",
      "Train Micro: Precision - 0.9878864708782309, Recall - 0.988582704912256, F1 - 0.9882344652670143\n",
      "Validation Micro: Precision - 0.9788442425102939, Recall - 0.9828913601368692, F1 - 0.9808636266628726\n",
      "Train Macro: Precision - 0.9265061111807785, Recall - 0.8915865487031114, F1 - 0.9010047976295759\n",
      "Validation Macro: Precision - 0.7893005914513967, Recall - 0.7828572225377497, F1 - 0.7768575977988261\n",
      "--------------------------------------------------\n",
      "Epoch 18\n",
      "Train Micro: Precision - 0.9883794633424889, Recall - 0.9890760448234548, F1 - 0.9887276313935466\n",
      "Validation Micro: Precision - 0.9794034090909091, Recall - 0.9830339321357285, F1 - 0.9812153123665861\n",
      "Train Macro: Precision - 0.896020621559214, Recall - 0.8857356779060319, F1 - 0.8899666683909873\n",
      "Validation Macro: Precision - 0.7905192481525736, Recall - 0.8039943219087391, F1 - 0.793373203004228\n",
      "--------------------------------------------------\n",
      "Epoch 19\n",
      "Train Micro: Precision - 0.989570119802678, Recall - 0.9896398618648249, F1 - 0.9896049896049895\n",
      "Validation Micro: Precision - 0.9800654990744696, Recall - 0.9813230681494155, F1 - 0.9806938804587875\n",
      "Train Macro: Precision - 0.8969650689050903, Recall - 0.8867425449988896, F1 - 0.8909418513884267\n",
      "Validation Macro: Precision - 0.7895904507996938, Recall - 0.796666707746554, F1 - 0.7903376980475036\n",
      "--------------------------------------------------\n"
     ]
    }
   ],
   "source": [
    "\n",
    "for epoch_data in training_stats:\n",
    "    train_micro_precision, train_micro_recall, train_micro_f1 = calculate_micro_metrics(epoch_data['train_confusion_matrix'])\n",
    "    val_micro_precision, val_micro_recall, val_micro_f1 = calculate_micro_metrics(epoch_data['val_confusion_matrix'])\n",
    "\n",
    "    train_macro_precision, train_macro_recall, train_macro_f1 = calculate_macro_metrics(epoch_data['train_confusion_matrix'])\n",
    "    val_macro_precision, val_macro_recall, val_macro_f1 = calculate_macro_metrics(epoch_data['val_confusion_matrix'])\n",
    "\n",
    "    print(f\"Epoch {epoch_data['epoch']}\")\n",
    "    print(f\"Train Micro: Precision - {train_micro_precision}, Recall - {train_micro_recall}, F1 - {train_micro_f1}\")\n",
    "    print(f\"Validation Micro: Precision - {val_micro_precision}, Recall - {val_micro_recall}, F1 - {val_micro_f1}\")\n",
    "    print(f\"Train Macro: Precision - {train_macro_precision}, Recall - {train_macro_recall}, F1 - {train_macro_f1}\")\n",
    "    print(f\"Validation Macro: Precision - {val_macro_precision}, Recall - {val_macro_recall}, F1 - {val_macro_f1}\")\n",
    "    print(\"-\" * 50)"
   ]
  },
  {
   "cell_type": "code",
   "execution_count": 29,
   "id": "0cc2d52e",
   "metadata": {},
   "outputs": [
    {
     "name": "stdout",
     "output_type": "stream",
     "text": [
      "Performance for Epoch 15:\n",
      "Label: OTHER\n",
      "   Precision: 0.0000\n",
      "   Recall: 0.0000\n",
      "   F1 Score: 0.0000\n",
      "--------------------\n",
      "Label: PATIENT\n",
      "   Precision: 0.9905\n",
      "   Recall: 0.9936\n",
      "   F1 Score: 0.9921\n",
      "--------------------\n",
      "Label: DOCTOR\n",
      "   Precision: 0.9871\n",
      "   Recall: 0.9871\n",
      "   F1 Score: 0.9871\n",
      "--------------------\n",
      "Label: CITY\n",
      "   Precision: 0.9756\n",
      "   Recall: 0.9804\n",
      "   F1 Score: 0.9780\n",
      "--------------------\n",
      "Label: ROOM\n",
      "   Precision: 1.0000\n",
      "   Recall: 1.0000\n",
      "   F1 Score: 1.0000\n",
      "--------------------\n",
      "Label: STREET\n",
      "   Precision: 0.9980\n",
      "   Recall: 0.9959\n",
      "   F1 Score: 0.9969\n",
      "--------------------\n",
      "Label: MEDICALRECORD\n",
      "   Precision: 0.9969\n",
      "   Recall: 0.9974\n",
      "   F1 Score: 0.9971\n",
      "--------------------\n",
      "Label: DEPARTMENT\n",
      "   Precision: 0.9537\n",
      "   Recall: 0.9612\n",
      "   F1 Score: 0.9574\n",
      "--------------------\n",
      "Label: LOCATION-OTHER\n",
      "   Precision: 0.8571\n",
      "   Recall: 0.8571\n",
      "   F1 Score: 0.8571\n",
      "--------------------\n",
      "Label: COUNTRY\n",
      "   Precision: 0.0000\n",
      "   Recall: 0.0000\n",
      "   F1 Score: 0.0000\n",
      "--------------------\n",
      "Label: IDNUM\n",
      "   Precision: 0.9949\n",
      "   Recall: 0.9949\n",
      "   F1 Score: 0.9949\n",
      "--------------------\n",
      "Label: STATE\n",
      "   Precision: 0.9684\n",
      "   Recall: 0.9664\n",
      "   F1 Score: 0.9674\n",
      "--------------------\n",
      "Label: AGE\n",
      "   Precision: 1.0000\n",
      "   Recall: 0.9932\n",
      "   F1 Score: 0.9966\n",
      "--------------------\n",
      "Label: SET\n",
      "   Precision: 1.0000\n",
      "   Recall: 0.9091\n",
      "   F1 Score: 0.9524\n",
      "--------------------\n",
      "Label: HOSPITAL\n",
      "   Precision: 0.9943\n",
      "   Recall: 0.9958\n",
      "   F1 Score: 0.9950\n",
      "--------------------\n",
      "Label: DATE\n",
      "   Precision: 0.9928\n",
      "   Recall: 0.9928\n",
      "   F1 Score: 0.9928\n",
      "--------------------\n",
      "Label: ZIP\n",
      "   Precision: 0.9990\n",
      "   Recall: 0.9990\n",
      "   F1 Score: 0.9990\n",
      "--------------------\n",
      "Label: URL\n",
      "   Precision: 0.0000\n",
      "   Recall: 0.0000\n",
      "   F1 Score: 0.0000\n",
      "--------------------\n",
      "Label: DURATION\n",
      "   Precision: 0.9286\n",
      "   Recall: 0.9286\n",
      "   F1 Score: 0.9286\n",
      "--------------------\n",
      "Label: ORGANIZATION\n",
      "   Precision: 0.6549\n",
      "   Recall: 0.6549\n",
      "   F1 Score: 0.6549\n",
      "--------------------\n",
      "Label: TIME\n",
      "   Precision: 0.9769\n",
      "   Recall: 0.9777\n",
      "   F1 Score: 0.9773\n",
      "--------------------\n",
      "Label: PHONE\n",
      "   Precision: 1.0000\n",
      "   Recall: 1.0000\n",
      "   F1 Score: 1.0000\n",
      "--------------------\n"
     ]
    }
   ],
   "source": [
    "#指定某個epoch，列出該epoch下各分類的狀況\n",
    "#這是看訓練\n",
    "\n",
    "def print_class_performance(epoch_data, epoch_number):\n",
    "    if epoch_data['epoch'] == epoch_number:\n",
    "        print(f\"Performance for Epoch {epoch_number}:\")\n",
    "        confusion_matrix = epoch_data['train_confusion_matrix']  #要看驗證改這邊，把它改成val_confusion_matrix\n",
    "        for label, scores in confusion_matrix.items():\n",
    "            precision = scores[\"TP\"] / (scores[\"TP\"] + scores[\"FP\"]) if scores[\"TP\"] + scores[\"FP\"] > 0 else 0\n",
    "            recall = scores[\"TP\"] / (scores[\"TP\"] + scores[\"FN\"]) if scores[\"TP\"] + scores[\"FN\"] > 0 else 0\n",
    "            f1 = 2 * (precision * recall) / (precision + recall) if precision + recall > 0 else 0\n",
    "\n",
    "            print(f\"Label: {label}\")\n",
    "            print(f\"   Precision: {precision:.4f}\")\n",
    "            print(f\"   Recall: {recall:.4f}\")\n",
    "            print(f\"   F1 Score: {f1:.4f}\")\n",
    "            print(\"-\" * 20)\n",
    "\n",
    "\n",
    "epoch_number = 15 \n",
    "for epoch_data in training_stats:\n",
    "    print_class_performance(epoch_data, epoch_number)\n"
   ]
  }
 ],
 "metadata": {
  "kernelspec": {
   "display_name": "Python 3 (ipykernel)",
   "language": "python",
   "name": "python3"
  },
  "language_info": {
   "codemirror_mode": {
    "name": "ipython",
    "version": 3
   },
   "file_extension": ".py",
   "mimetype": "text/x-python",
   "name": "python",
   "nbconvert_exporter": "python",
   "pygments_lexer": "ipython3",
   "version": "3.10.12"
  }
 },
 "nbformat": 4,
 "nbformat_minor": 5
}
